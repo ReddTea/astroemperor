{
 "cells": [
  {
   "cell_type": "code",
   "execution_count": 1,
   "id": "afa56914",
   "metadata": {},
   "outputs": [
    {
     "name": "stdout",
     "output_type": "stream",
     "text": [
      "I couldnt grab the terminal size. Trying with pandas...\n",
      "Terminal size with pandas successful!\n",
      "\u001b[7m\u001b[1m\u001b[32m                                                                                \u001b[0m\n",
      "\u001b[7m\u001b[1m\u001b[32m                   ~~ Simulation Successfully Initialized ~~                    \u001b[0m\n",
      "\u001b[7m\u001b[1m\u001b[32m                                                                                \u001b[0m\n"
     ]
    }
   ],
   "source": [
    "import astroemperor as emp\n",
    "import numpy as np\n",
    "import multiprocessing\n",
    "np.random.seed(1234)\n",
    "\n",
    "\n",
    "sim = emp.Simulation()\n",
    "sim.cores__ = multiprocessing.cpu_count()"
   ]
  },
  {
   "cell_type": "code",
   "execution_count": 2,
   "id": "41b14032",
   "metadata": {},
   "outputs": [],
   "source": [
    "ntemps, nwalkers, nsweeps, nsteps = 11, 256, 3000, 1\n",
    "\n",
    "sim.set_engine('reddemcee')\n",
    "sim.engine_config['setup'] = [ntemps, nwalkers, nsweeps, nsteps]\n",
    "\n",
    "sim.engine_config['tsw_history'] = True\n",
    "sim.engine_config['smd_history'] = True\n",
    "sim.engine_config['adapt_tau'] = 100\n",
    "sim.engine_config['adapt_nu'] = 1.5\n",
    "sim.engine_config['adapt_mode'] = 0\n",
    "\n",
    "sim.engine_config['betas'] = list(np.geomspace(1, 0.001, ntemps))\n",
    "# sim.engine_config['betas'][-1] = 0  # Optionally, for exact evidence estimation\n",
    "\n",
    "sim.run_config['burnin'] = 0.5  # its in niter\n"
   ]
  },
  {
   "cell_type": "code",
   "execution_count": 3,
   "id": "99f621d4",
   "metadata": {},
   "outputs": [],
   "source": [
    "sim.starmass = \t0.9800  # ±0.1150  # hip21850, feng 2022 https://exoplanetarchive.ipac.caltech.edu/overview/HD%2030177\n",
    "sim.starmass_err = 0.1150\n",
    "sim.instrument_names_RV = ['AAT', 'HAR1',\n",
    "                           'HAR2', 'HAR3']\n",
    "\n"
   ]
  },
  {
   "cell_type": "code",
   "execution_count": 4,
   "id": "0d802192",
   "metadata": {},
   "outputs": [],
   "source": [
    "sim.jitter_prargs = [0, 10]\n",
    "sim.eccentricity_prargs = [0, 0.3]\n",
    "\n",
    "sim.acceleration = 1\n"
   ]
  },
  {
   "cell_type": "code",
   "execution_count": 5,
   "id": "187340e8",
   "metadata": {},
   "outputs": [],
   "source": [
    "for i in range(1, 5):\n",
    "    sim.add_condition([f'Offset {i}', 'limits', [-150, 150]])\n",
    "    sim.add_condition([f'Jitter {i}', 'limits', [1e-4, 30]])\n",
    "\n",
    "\n",
    "sim.add_condition(['Period 1', 'limits', [2000, 3000]])\n",
    "sim.add_condition(['Amplitude 1', 'limits', [50, 150]])\n",
    "sim.add_condition(['Eccentricity 1', 'limits', [0, 0.5]])\n",
    "sim.add_condition(['Phase 1', 'limits', [np.pi, 2*np.pi]])\n",
    "sim.add_condition(['Longitude 1', 'limits', [0, np.pi]])\n",
    "\n",
    "for offset in ['RA', 'DE', 'PLX', 'pm RA', 'pm DE']:\n",
    "    sim.add_condition([f'Offset {offset}', 'limits', [-1, 1]])  # usually -10, 10\n",
    "\n",
    "\n",
    "sim.add_condition(['Jitter Gaia', 'limits', [0, 10]])  # [1, 10]\n",
    "sim.add_condition(['Jitter Gaia', 'prior', 'Normal'])\n",
    "sim.add_condition(['Jitter Gaia', 'prargs', [1, 0.1]])\n",
    "\n",
    "sim.add_condition(['Jitter Hipparcos', 'limits', [0, 10]])\n",
    "sim.add_condition(['Jitter Hipparcos', 'prior', 'Normal'])\n",
    "sim.add_condition(['Jitter Hipparcos', 'prargs', [0, 5]])\n"
   ]
  },
  {
   "cell_type": "code",
   "execution_count": null,
   "id": "71195919",
   "metadata": {},
   "outputs": [],
   "source": [
    "sim.plot_posteriors['temps'] = [0]\n",
    "\n",
    "sim.plot_gaussian_mixtures['plot'] = False\n",
    "sim.plot_trace['plot'] = False\n",
    "sim.plot_histograms['plot'] = False\n"
   ]
  },
  {
   "cell_type": "code",
   "execution_count": null,
   "id": "2f8651ce",
   "metadata": {},
   "outputs": [],
   "source": []
  },
  {
   "cell_type": "code",
   "execution_count": 7,
   "id": "8385efe2",
   "metadata": {},
   "outputs": [
    {
     "name": "stdout",
     "output_type": "stream",
     "text": [
      "\n",
      "\n",
      "\u001b[34m\n",
      "Reading data from HIP21850_1_AAT.vels\n",
      "Reading data from HIP21850_2_HARPS1.vels\n",
      "Reading data from HIP21850_3_HARPS2.vels\n",
      "Reading data from HIP21850_4_HARPS3.vels\u001b[0m\n",
      "\n",
      "\n",
      "\n",
      "\n",
      "\u001b[34m                                                                                \u001b[0m\n",
      "\n",
      "\n",
      "                              \u001b[1m\u001b[32mAcceleration\u001b[0m \u001b[32mblock added\u001b[0m, \u001b[32mAccelerationBlock o1\u001b[0m\n",
      "\n",
      "\n",
      "                              \u001b[1m\u001b[32mOffset\u001b[0m \u001b[32mblock added\u001b[0m, \u001b[32mOffsetBlock\u001b[0m\n",
      "\n",
      "\n",
      "                              \u001b[1m\u001b[32mJitter\u001b[0m \u001b[32mblock added\u001b[0m, \u001b[32mJitterBlock\u001b[0m\n",
      "\n",
      "\n",
      "                              \u001b[1m\u001b[32mKeplerian\u001b[0m \u001b[32mblock added\u001b[0m, \u001b[32mAstrometryKeplerianBlock 1\u001b[0m\n",
      "\n",
      "\n",
      "                              \u001b[1m\u001b[32mAstrometryOffset\u001b[0m \u001b[32mblock added\u001b[0m, \u001b[32mAstrometryOffsetBlock\u001b[0m\n",
      "\n",
      "\n",
      "                              \u001b[1m\u001b[32mAstrometryJitter\u001b[0m \u001b[32mblock added\u001b[0m, \u001b[32mAstrometryJitterBlock\u001b[0m\n",
      "\n",
      "\n",
      "\n",
      "Condition applied: Parameter \u001b[4mPeriod 1\u001b[0m attribute \u001b[4mlimits\u001b[0m set to \u001b[4m[2000, 3000]\u001b[0m\n",
      "\n",
      "Condition applied: Parameter \u001b[4mAmplitude 1\u001b[0m attribute \u001b[4mlimits\u001b[0m set to \u001b[4m[50, 150]\u001b[0m\n",
      "\n",
      "Condition applied: Parameter \u001b[4mPhase 1\u001b[0m attribute \u001b[4mlimits\u001b[0m set to \u001b[4m[3.141592653589793, 6.283185307179586]\u001b[0m\n",
      "\n",
      "Condition applied: Parameter \u001b[4mEccentricity 1\u001b[0m attribute \u001b[4mlimits\u001b[0m set to \u001b[4m[0, 0.5]\u001b[0m\n",
      "\n",
      "Condition applied: Parameter \u001b[4mLongitude 1\u001b[0m attribute \u001b[4mlimits\u001b[0m set to \u001b[4m[0, 3.141592653589793]\u001b[0m\n",
      "\n",
      "Condition applied: Parameter \u001b[4mOffset 1\u001b[0m attribute \u001b[4mlimits\u001b[0m set to \u001b[4m[-150, 150]\u001b[0m\n",
      "\n",
      "Condition applied: Parameter \u001b[4mOffset 2\u001b[0m attribute \u001b[4mlimits\u001b[0m set to \u001b[4m[-150, 150]\u001b[0m\n",
      "\n",
      "Condition applied: Parameter \u001b[4mOffset 3\u001b[0m attribute \u001b[4mlimits\u001b[0m set to \u001b[4m[-150, 150]\u001b[0m\n",
      "\n",
      "Condition applied: Parameter \u001b[4mOffset 4\u001b[0m attribute \u001b[4mlimits\u001b[0m set to \u001b[4m[-150, 150]\u001b[0m\n",
      "\n",
      "Condition applied: Parameter \u001b[4mJitter 1\u001b[0m attribute \u001b[4mlimits\u001b[0m set to \u001b[4m[0.0001, 30]\u001b[0m\n",
      "\n",
      "Condition applied: Parameter \u001b[4mJitter 2\u001b[0m attribute \u001b[4mlimits\u001b[0m set to \u001b[4m[0.0001, 30]\u001b[0m\n",
      "\n",
      "Condition applied: Parameter \u001b[4mJitter 3\u001b[0m attribute \u001b[4mlimits\u001b[0m set to \u001b[4m[0.0001, 30]\u001b[0m\n",
      "\n",
      "Condition applied: Parameter \u001b[4mJitter 4\u001b[0m attribute \u001b[4mlimits\u001b[0m set to \u001b[4m[0.0001, 30]\u001b[0m\n",
      "\n",
      "Condition applied: Parameter \u001b[4mOffset RA\u001b[0m attribute \u001b[4mlimits\u001b[0m set to \u001b[4m[-1, 1]\u001b[0m\n",
      "\n",
      "Condition applied: Parameter \u001b[4mOffset DE\u001b[0m attribute \u001b[4mlimits\u001b[0m set to \u001b[4m[-1, 1]\u001b[0m\n",
      "\n",
      "Condition applied: Parameter \u001b[4mOffset PLX\u001b[0m attribute \u001b[4mlimits\u001b[0m set to \u001b[4m[-1, 1]\u001b[0m\n",
      "\n",
      "Condition applied: Parameter \u001b[4mOffset pm RA\u001b[0m attribute \u001b[4mlimits\u001b[0m set to \u001b[4m[-1, 1]\u001b[0m\n",
      "\n",
      "Condition applied: Parameter \u001b[4mOffset pm DE\u001b[0m attribute \u001b[4mlimits\u001b[0m set to \u001b[4m[-1, 1]\u001b[0m\n",
      "\n",
      "Condition applied: Parameter \u001b[4mJitter Hipparcos\u001b[0m attribute \u001b[4mlimits\u001b[0m set to \u001b[4m[0, 10]\u001b[0m\n",
      "\n",
      "Condition applied: Parameter \u001b[4mJitter Hipparcos\u001b[0m attribute \u001b[4mprior\u001b[0m set to \u001b[4mNormal\u001b[0m\n",
      "\n",
      "Condition applied: Parameter \u001b[4mJitter Hipparcos\u001b[0m attribute \u001b[4mprargs\u001b[0m set to \u001b[4m[0, 5]\u001b[0m\n",
      "\n",
      "Condition applied: Parameter \u001b[4mJitter Gaia\u001b[0m attribute \u001b[4mlimits\u001b[0m set to \u001b[4m[0, 10]\u001b[0m\n",
      "\n",
      "Condition applied: Parameter \u001b[4mJitter Gaia\u001b[0m attribute \u001b[4mprior\u001b[0m set to \u001b[4mNormal\u001b[0m\n",
      "\n",
      "Condition applied: Parameter \u001b[4mJitter Gaia\u001b[0m attribute \u001b[4mprargs\u001b[0m set to \u001b[4m[1, 0.1]\u001b[0m\n",
      "\n",
      "\n",
      "\u001b[7m\u001b[34m                                ~~ Setup Info ~~                                \u001b[0m\n",
      "\n",
      "\n",
      "\u001b[34mCurrent Engine is            \u001b[1mreddemcee 0.95\u001b[0m\u001b[0m\n",
      "\u001b[34mNumber of cores is           \u001b[1m24\u001b[0m\u001b[0m\n",
      "\u001b[34mSave location is             \u001b[1mdatalogs/HIP21850/run_4/k1\u001b[0m\u001b[0m\n",
      "\u001b[34mDynamical Criteria is        \u001b[1mNone\u001b[0m\u001b[0m\n",
      "\u001b[34mPosterior fit method is      \u001b[1mGaussian Mixtures\u001b[0m\u001b[0m\n",
      "\u001b[34mLimits constrain method is   \u001b[1mrange\u001b[0m\u001b[0m\n",
      "\u001b[34mModel Selection method is    \u001b[1mBIC\u001b[0m\u001b[0m\n",
      "\n",
      "\n",
      "\u001b[7m\u001b[34m                           ~~ Automatically Saving ~~                           \u001b[0m\n",
      "\n",
      "\n",
      "\u001b[34mLogger       : \u001b[7m\u001b[32m✔\u001b[0m\u001b[0m\n",
      "\u001b[34mSamples      : \u001b[7m\u001b[31m✘\u001b[0m\u001b[0m\n",
      "\u001b[34mPosteriors   : \u001b[7m\u001b[32m✔\u001b[0m\u001b[0m\n",
      "\u001b[34mLikelihoods  : \u001b[7m\u001b[32m✔\u001b[0m\u001b[0m\n",
      "\u001b[34mPlots: Posteriors           : \u001b[7m\u001b[32m✔\u001b[0m\u001b[0m\n",
      "\u001b[34mPlots: Keplerian Model      : \u001b[7m\u001b[32m✔\u001b[0m\u001b[0m\n",
      "\u001b[34mPlots: Gaussian Mixture     : \u001b[7m\u001b[31m✘\u001b[0m\u001b[0m\n",
      "\u001b[34mPlots: Parameter Histograms : \u001b[7m\u001b[32m✔\u001b[0m\u001b[0m\n",
      "\u001b[34mPlots: Corner               : \u001b[7m\u001b[32m✔\u001b[0m\u001b[0m\n",
      "\n",
      "\n",
      "\u001b[7m\u001b[1m\u001b[33m                               ~~ Pre-Run Info ~~                               \u001b[0m\n",
      "\n",
      "\n",
      "Parameter           Prior                             Limits\n",
      "------------------  --------------------------------  -------------------------\n",
      "Period 1            ~𝓤 (2000, 3000)                   [2000. 3000.]\n",
      "Amplitude 1         ~𝓤 (50, 150)                      [ 50. 150.]\n",
      "Phase 1             ~𝓤 (3.142, 6.283)                 [3.142 6.283]\n",
      "Eccentricity 1      ~𝓝 (0.0, 0.3)                     [0.  0.5]\n",
      "Longitude 1         ~𝓤 (0.0, 3.142)                   [0.    3.142]\n",
      "Inclination 1       Method not built for Isometric    [0.    3.142]\n",
      "Omega 1             ~𝓤 (0.0, 6.283)                   [0.    6.283]\n",
      "\n",
      "------------------  --------------------------------  -------------------------\n",
      "Acceleration        ~𝓤 (-1, 1)                        [-1  1]\n",
      "\n",
      "------------------  --------------------------------  -------------------------\n",
      "Offset 1            ~𝓤 (-150, 150)                    [-150  150]\n",
      "Offset 2            ~𝓤 (-150, 150)                    [-150  150]\n",
      "Offset 3            ~𝓤 (-150, 150)                    [-150  150]\n",
      "Offset 4            ~𝓤 (-150, 150)                    [-150  150]\n",
      "\n",
      "------------------  --------------------------------  -------------------------\n",
      "Jitter 1            ~𝓝 (0, 10)                        [ 0. 30.]\n",
      "Jitter 2            ~𝓝 (0, 10)                        [ 0. 30.]\n",
      "Jitter 3            ~𝓝 (0, 10)                        [ 0. 30.]\n",
      "Jitter 4            ~𝓝 (0, 10)                        [ 0. 30.]\n",
      "\n",
      "------------------  --------------------------------  -------------------------\n",
      "Offset RA           ~𝓤 (-1, 1)                        [-1  1]\n",
      "Offset DE           ~𝓤 (-1, 1)                        [-1  1]\n",
      "Offset PLX          ~𝓤 (-1, 1)                        [-1  1]\n",
      "Offset pm RA        ~𝓤 (-1, 1)                        [-1  1]\n",
      "Offset pm DE        ~𝓤 (-1, 1)                        [-1  1]\n",
      "\n",
      "------------------  --------------------------------  -------------------------\n",
      "Jitter Hipparcos    ~𝓝 (0, 5)                         [ 0 10]\n",
      "Jitter Gaia         ~𝓝 (1.0, 0.1)                     [ 0 10]\n",
      "\n",
      "\n",
      "\n",
      "\n",
      "\u001b[33mMath for AstrometryKeplerianBlock 1: \u001b[0m\n",
      "\u001b[33m                   K⋅sin(I)⋅(cos(ν(t,P,𝜙,e)+𝜔 )+e⋅cos(𝜔 ))|₁                    \u001b[0m\n",
      "\u001b[33mMath for AccelerationBlock o1: \u001b[0m\n",
      "\u001b[33m                                       γ₁                                       \u001b[0m\n",
      "\u001b[33mMath for OffsetBlock: \u001b[0m\n",
      "\u001b[33m                                      γ₀|ᵢ                                      \u001b[0m\n",
      "\u001b[33mMath for JitterBlock: \u001b[0m\n",
      "\u001b[33m                                       𝝈ᵢ                                       \u001b[0m\n",
      "\u001b[33mMath for AstrometryOffsetBlock: \u001b[0m\n",
      "\u001b[33m                                      γ₀|ᵢ                                      \u001b[0m\n",
      "\u001b[33mMath for AstrometryJitterBlock: \u001b[0m\n",
      "\u001b[33m                                                                                \u001b[0m\n",
      "\u001b[7m\u001b[32m                               Generating Samples                               \u001b[0m\n",
      "\n",
      "\n"
     ]
    },
    {
     "name": "stderr",
     "output_type": "stream",
     "text": [
      "100%|██████████| 33000/33000 [06:59<00:00, 78.63it/s]\n"
     ]
    },
    {
     "name": "stdout",
     "output_type": "stream",
     "text": [
      "temp_script.py took 420.197 seconds\n",
      "Autocorrelation tolerance=50 fails. Setting to 0.\n",
      "\u001b[32m                         Calculating Gaussian Mixtures                          \u001b[0m\n"
     ]
    },
    {
     "name": "stderr",
     "output_type": "stream",
     "text": [
      "100%|██████████| 25/25 [00:20<00:00,  1.25it/s]"
     ]
    },
    {
     "name": "stdout",
     "output_type": "stream",
     "text": [
      "\n",
      "\n",
      "\u001b[7m\u001b[1m\u001b[33m                                 ~~ Best Fit ~~                                 \u001b[0m\n",
      "\n",
      "\n",
      "Parameter            Value (max)  Range (-+ sig)    Prior                           Limits\n",
      "-----------------  -------------  ----------------  ------------------------------  -------------\n",
      "Period 1                2567.37   [-4.407  4.794]   ~𝓤 (2000, 3000)                 [2000. 3000.]\n",
      "Amplitude 1              120.188  [-0.835  0.318]   ~𝓤 (50, 150)                    [ 50. 150.]\n",
      "Phase 1                    5.553  [-0.004  0.028]   ~𝓤 (3.142, 6.283)               [3.142 6.283]\n",
      "Eccentricity 1             0.201  [-0.008  0.009]   ~𝓝 (0.0, 0.3)                   [0.  0.5]\n",
      "Longitude 1                0.659  [-0.021  0.015]   ~𝓤 (0.0, 3.142)                 [0.    3.142]\n",
      "Inclination 1              1.084  [-0.035  0.032]   Method not built for Isometric  [0.    3.142]\n",
      "Omega 1                    4.289  [-0.174  0.23 ]   ~𝓤 (0.0, 6.283)                 [0.    6.283]\n",
      "Semi-Major Axis 1          3.738  [-0.173  0.142]                                   [   0. 1000.]\n",
      "Minimum Mass 1             9.315  [-0.95   0.766]                                   [   0. 1000.]\n",
      "\n",
      "------------  -------------  ----------------  ----------  --------\n",
      "Acceleration          0.006  [-0.001  0.001]   ~𝓤 (-1, 1)  [-1  1]\n",
      "\n",
      "-----------  -------------  ----------------  --------------  -----------\n",
      "Offset 1           -24.341  [-1.162  3.061]   ~𝓤 (-150, 150)  [-150  150]\n",
      "Offset 2            -4.909  [-1.93   2.672]   ~𝓤 (-150, 150)  [-150  150]\n",
      "Offset 3          -105.186  [-8.054  8.136]   ~𝓤 (-150, 150)  [-150  150]\n",
      "Offset 4           -97.556  [-0.328  3.502]   ~𝓤 (-150, 150)  [-150  150]\n",
      "\n",
      "-----------  -------------  ----------------  ----------  ---------\n",
      "Jitter 1            29.644  [-0.212  0.355]   ~𝓝 (0, 10)  [ 0. 30.]\n",
      "Jitter 2             0.825  [-0.313  0.407]   ~𝓝 (0, 10)  [ 0. 30.]\n",
      "Jitter 3             8.933  [-4.024  4.363]   ~𝓝 (0, 10)  [ 0. 30.]\n",
      "Jitter 4             1.743  [-0.16   0.545]   ~𝓝 (0, 10)  [ 0. 30.]\n",
      "\n",
      "------------  -------------  ----------------  ----------  --------\n",
      "Offset RA            -0.437  [-0.044  0.039]   ~𝓤 (-1, 1)  [-1  1]\n",
      "Offset DE            -0.257  [-0.092  0.133]   ~𝓤 (-1, 1)  [-1  1]\n",
      "Offset PLX            0.003  [-0.013  0.004]   ~𝓤 (-1, 1)  [-1  1]\n",
      "Offset pm RA         -0.183  [-0.005  0.015]   ~𝓤 (-1, 1)  [-1  1]\n",
      "Offset pm DE          0.154  [-0.026  0.029]   ~𝓤 (-1, 1)  [-1  1]\n",
      "\n",
      "----------------  -------------  ----------------  -------------  --------\n",
      "Jitter Hipparcos          0.257  [-0.254  0.234]   ~𝓝 (0, 5)      [ 0 10]\n",
      "Jitter Gaia               1.086  [-0.061  0.023]   ~𝓝 (1.0, 0.1)  [ 0 10]\n",
      "\n",
      "\n",
      "\n",
      "\n",
      "\u001b[7m\u001b[1m\u001b[33m                                 ~~ Run Info ~~                                 \u001b[0m\n",
      "\n",
      "\n",
      "\n",
      "\n",
      "\n",
      "\n",
      "Info                                 Value\n",
      "-----------------------------------  ------------------------------------------------------------------------------------------------------------------------------------------\n",
      "Star Name                      :     HIP21850\n",
      "The sample sizes are           :     [384000, 384000, 384000, 384000, 384000, 384000, 384000, 384000, 384000, 384000, 384000]\n",
      "Temps, Walkers, Sweeps, Steps  :     [11, 256, 3000, 1]\n",
      "Model used is                  :     ['AstrometryKeplerianBlock 1', 'AccelerationBlock o1', 'OffsetBlock', 'JitterBlock', 'AstrometryOffsetBlock', 'AstrometryJitterBlock'](23)\n",
      "N data                         :     97\n",
      "t0 epoch is                    :     2451118.09737\n",
      "Number of Dimensions           :     23\n",
      "Degrees of Freedom             :     74\n",
      "\n",
      "\n",
      "----------------------------------------\n",
      "\n",
      "\n",
      "\n",
      "Decay Timescale, Rate, Scheme   :   100, 1.5, 0\n",
      "\n",
      "Beta Detail                     :   [1.0, 0.5784, 0.3513, 0.2413, 0.1424, 0.07563, 0.03658, 0.01682, 0.007349, 0.002927, 0.001]\n",
      "\n",
      "Mean Logl Detail                :   [-651.661, -661.578, -681.306, -715.412, -757.058, -819.630, -930.203, -1148.862, -1623.142, -2714.267, -5180.655]\n",
      "\n",
      "Mean Acceptance Fraction        :   [0.258, 0.248, 0.228, 0.210, 0.194, 0.174, 0.168, 0.167, 0.164, 0.151, 0.130]\n",
      "\n",
      "Autocorrelation Time            :   [100.988, 98.264, 94.344, 95.678, 93.742, 92.695, 94.523, 95.136, 97.937, 95.194, 99.747, 98.708, 99.190, 92.029, 97.485, 91.908, 97.833, 94.719, 93.823, 95.536, 98.075, 101.339, 103.921]\n",
      "\n",
      "Temperature Swap Rate           :   [0.163, 0.162, 0.159, 0.156, 0.152, 0.149, 0.145, 0.143, 0.143, 0.142]\n",
      "\n",
      "Mean Swap Distance              :   [2.985, 4.056, 7.148, 10.688, 13.890, 17.811, 22.638, 29.018, 37.778, 47.410]\n",
      "\n",
      "\n",
      "\n",
      "\n",
      "\u001b[7m\u001b[1m\u001b[33m                           ~~ Statistical Details ~~                            \u001b[0m\n",
      "\n",
      "\n",
      "\n",
      "\n",
      "Statistic                      Value\n",
      "-----------------------------  -----------------------------\n",
      "The evidence is             :  -708.853 +- 4.396\n",
      "The maximum posterior is    :  -700.428\n",
      "The maximum likelihood is   :  -642.157\n",
      "The BIC is                  :  1389.532\n",
      "The AIC is                  :  1330.313\n",
      "The DIC is                  :  1335.303\n",
      "The HQIC is                 :  1354.258\n",
      "The Bayes Factor is         :  66.696\n",
      "The chi2 is                 :  134.916\n",
      "The reduced chi2 is         :  1.823\n",
      "The RMSE is                 :  25.844\n",
      "The RMSi is                 :  [38.633  1.662 10.754  2.01 ]\n",
      "The Weights are             :  [0.001 0.585 0.014 0.4  ]\n",
      "\n",
      "\n",
      "\n",
      "\n",
      "\n",
      "\n",
      "\u001b[32m                        Plotting Posterior Scatter Plot                         \u001b[0m\n"
     ]
    },
    {
     "name": "stderr",
     "output_type": "stream",
     "text": [
      "\n",
      "100%|██████████| 4/4 [00:14<00:00,  3.71s/it]\n",
      "100%|██████████| 2/2 [00:10<00:00,  5.08s/it]\n"
     ]
    },
    {
     "name": "stdout",
     "output_type": "stream",
     "text": [
      "\n",
      "\n",
      "\u001b[32m                            Plotting Histograms Plot                            \u001b[0m\n"
     ]
    },
    {
     "name": "stderr",
     "output_type": "stream",
     "text": [
      " 14%|█▎        | 9/66 [00:09<00:55,  1.03it/s]"
     ]
    },
    {
     "name": "stdout",
     "output_type": "stream",
     "text": [
      "Failed to plot the Jitter 2 histogram\n"
     ]
    },
    {
     "name": "stderr",
     "output_type": "stream",
     "text": [
      "100%|██████████| 66/66 [01:06<00:00,  1.00s/it]\n"
     ]
    },
    {
     "name": "stdout",
     "output_type": "stream",
     "text": [
      "\n",
      "\n",
      "\u001b[32m                           Plotting Keplerian Models                            \u001b[0m\n",
      "\n",
      "\n",
      "\u001b[32m                          Plotting E[log L](beta) Plot                          \u001b[0m\n"
     ]
    },
    {
     "name": "stderr",
     "output_type": "stream",
     "text": [
      "100%|██████████| 1/1 [00:00<00:00,  7.28it/s]\n"
     ]
    },
    {
     "name": "stdout",
     "output_type": "stream",
     "text": [
      "\n",
      "\n",
      "\u001b[32m                             Plotting Beta Density                              \u001b[0m\n"
     ]
    },
    {
     "name": "stderr",
     "output_type": "stream",
     "text": [
      "100%|██████████| 1/1 [00:00<00:00,  6.04it/s]\n"
     ]
    },
    {
     "name": "stdout",
     "output_type": "stream",
     "text": [
      "\n",
      "\n",
      "\u001b[32m                           Plotting Temperature Rates                           \u001b[0m\n"
     ]
    },
    {
     "name": "stderr",
     "output_type": "stream",
     "text": [
      "100%|██████████| 10/10 [00:01<00:00,  9.88it/s]"
     ]
    },
    {
     "name": "stdout",
     "output_type": "stream",
     "text": [
      "\n",
      "\n",
      "\n",
      "\n",
      "Time Table\n",
      "\u001b[34mTime RUN                   \u001b[1m: 00:07:04\u001b[0m\u001b[0m\n",
      "\u001b[34mTime POSTPROCESS           \u001b[1m: 00:00:31\u001b[0m\u001b[0m\n",
      "\u001b[34mTime CALCULATE GM          \u001b[1m: 00:00:20\u001b[0m\u001b[0m\n",
      "\u001b[34mTime plot_posteriors       \u001b[1m: 00:00:25\u001b[0m\u001b[0m\n",
      "\u001b[34mTime plot_histograms       \u001b[1m: 00:01:06\u001b[0m\u001b[0m\n",
      "\u001b[34mTime plot_keplerian_model  \u001b[1m: 00:00:00\u001b[0m\u001b[0m\n",
      "\u001b[34mTime plot_betas            \u001b[1m: 00:00:00\u001b[0m\u001b[0m\n",
      "\u001b[34mTime plot_beta_density     \u001b[1m: 00:00:00\u001b[0m\u001b[0m\n",
      "\u001b[34mTime plot_rates            \u001b[1m: 00:00:01\u001b[0m\u001b[0m\n",
      "\u001b[34mTime plot_trace            \u001b[1m: 00:00:00\u001b[0m\u001b[0m\n",
      "\u001b[34m\n",
      "past BIC - present BIC > 5\u001b[0m\n",
      "\u001b[1m\u001b[34m\n",
      " BIC condition met!!\u001b[0m\n",
      "\u001b[34minf - 1389.532 > 5\u001b[0m\n",
      "\n",
      "\n",
      "\u001b[7m\u001b[1m\u001b[35m                                                                                \u001b[0m\n",
      "\u001b[7m\u001b[1m\u001b[35m                              ~~ End of the Run ~~                              \u001b[0m\n",
      "\u001b[7m\u001b[1m\u001b[35m                                                                                \u001b[0m\n",
      "\n",
      "\n"
     ]
    },
    {
     "name": "stderr",
     "output_type": "stream",
     "text": [
      "\n"
     ]
    }
   ],
   "source": [
    "sim.load_data('HIP21850')  # folder read from /datafiles/\n",
    "sim.autorun(1, 1)"
   ]
  },
  {
   "cell_type": "code",
   "execution_count": null,
   "id": "dc2fd9f9",
   "metadata": {},
   "outputs": [],
   "source": []
  },
  {
   "cell_type": "code",
   "execution_count": null,
   "id": "7b4565a0",
   "metadata": {},
   "outputs": [],
   "source": []
  }
 ],
 "metadata": {
  "kernelspec": {
   "display_name": "base",
   "language": "python",
   "name": "python3"
  },
  "language_info": {
   "codemirror_mode": {
    "name": "ipython",
    "version": 3
   },
   "file_extension": ".py",
   "mimetype": "text/x-python",
   "name": "python",
   "nbconvert_exporter": "python",
   "pygments_lexer": "ipython3",
   "version": "3.12.4"
  }
 },
 "nbformat": 4,
 "nbformat_minor": 5
}
