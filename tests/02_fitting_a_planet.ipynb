{
 "cells": [
  {
   "cell_type": "code",
   "execution_count": 4,
   "metadata": {},
   "outputs": [
    {
     "name": "stdout",
     "output_type": "stream",
     "text": [
      "I couldnt grab the terminal size. Trying with pandas...\n",
      "Terminal size with pandas successful!\n"
     ]
    }
   ],
   "source": [
    "from IPython.display import Image, display\n",
    "import numpy as np\n",
    "import astroemperor as emp\n",
    "\n",
    "np.random.seed(1234)"
   ]
  },
  {
   "cell_type": "markdown",
   "metadata": {},
   "source": [
    "# Emperor general options\n",
    "We take a deeper look into the Emperor options:\n",
    "\n",
    "\n",
    "## Parallelisation\n",
    "Parallelisation can be done with several different libraries. The available options are:\n",
    "\n",
    "```multiprocess_method```: To change the parallelisation scheme.\n",
    "\n",
    "```cores__```: Misnomer for how many threads to use.\n",
    "\n",
    "\n",
    "| Code | Library         | Pool           |\n",
    "|------|-----------------|----------------|\n",
    "| 0    | None            | None           |\n",
    "| 1    | multiprocessing | Pool           |\n",
    "| 2    | multiprocess    | Pool           |\n",
    "| 3    | multiprocessing | ThreadPool     |\n",
    "| 4    | pathos          | ProcessingPool |\n",
    "| 5    | schwimmbad      | SerialPool     |\n",
    "| 6    | schwimmbad      | JoblibPool     |\n",
    "| 7    | schwimmbad      | MultiPool      |"
   ]
  },
  {
   "cell_type": "markdown",
   "metadata": {},
   "source": [
    "## Preparing next run\n",
    "Sometimes you want to tweak something before starting the next run. Emperor lets you constrain the current solution for the next model. The three available methods are:\n",
    "\n",
    " - range: Constrains around the 36/90/95 HDI of the chain.\n",
    " - sigma: Constrains around ```constrain_sigma``` standard deviations from the mean.\n",
    " - GM: Constrains around the standard deviations of the Fitted Gaussian Mixture.\n",
    "\n",
    "```save_backends```: bool. To save the whole chain as a .h5 file.\n",
    "\n",
    "```switch_constrain```: bool.\n",
    "\n",
    "```constrain_method```: str. 'sigma', 'GM', 'range'\n",
    "\n",
    "```constrain_sigma```: int.\n",
    "\n"
   ]
  },
  {
   "cell_type": "markdown",
   "metadata": {},
   "source": [
    "## Engine\n",
    "You can select the engine by using ```set_engine```.\n",
    "\n",
    "### reddemcee\n",
    "| engine_config | type       | description                                    |\n",
    "|---------------|------------|------------------------------------------------|\n",
    "| setup         | list       | [ntemps, nwalkers, nsweeps, nsteps]            |\n",
    "| betas         | (opt) list | The specific temperature ladder to start with. |\n",
    "| moves         | (opt) list | moves used by the sampler                      |\n",
    "| tsw_history   | (opt) bool | Saves the temperature swap rate. |\n",
    "| smd_history   | (opt) bool | Saves the swap mean distance.    |\n",
    "| adapt_mode    | int        | Uses different adaptation schemes.             |\n",
    "| adapt_tau     | float      | Ladder adaptation decay timescale.             |\n",
    "| adapt_nu      | float      | Ladder adaptation decay rate.                  |\n",
    "| progress      | bool       | Wheter to display the progress bar.            |\n",
    "\n",
    "More information on reddemcee's options can be found on the GitHub.\n",
    "\n",
    "You can also set some options for the run itself:\n",
    "| run_config         | type  | description                                  |\n",
    "|--------------------|-------|----------------------------------------------|\n",
    "| adaptation_batches | int   | Batches where the ladder adaptation is done. |\n",
    "| adaptation_nsweeps | int   | Length of each adaptation batch.             |\n",
    "| burnin             | float | Drops the first part of the chain.           |\n",
    "| thin               | int   | Thins the samples.                           |\n",
    "| logger_level       | str   | 'ERROR', 'CRITICAL', 'DEBUG'                 |\n",
    "\n",
    "\n",
    "### dynesty\n",
    "Dynesty's options can be found on its GitHub. The most used ones are:\n",
    "\n",
    "| engine_config | type       | description                                         |\n",
    "|---------------|------------|-----------------------------------------------------|\n",
    "| nlive         | int        | N livepoints                                        |\n",
    "| queue_size    | int        | for parallelization                                 |\n",
    "| bound         | str        | 'none', 'single', 'multi', 'balls', 'cubes'         |\n",
    "| sample        | str        | 'rwalk', 'auto', 'unif', 'rwalk', 'slice', 'rslice' |"
   ]
  },
  {
   "cell_type": "code",
   "execution_count": null,
   "metadata": {},
   "outputs": [],
   "source": [
    "sim = emp.Simulation()\n",
    "\n",
    "sim.multiprocess_method = 1  # multiprocessing Pool\n",
    "sim.cores__ = 10  #\n",
    "\n"
   ]
  },
  {
   "cell_type": "code",
   "execution_count": 5,
   "metadata": {},
   "outputs": [
    {
     "name": "stdout",
     "output_type": "stream",
     "text": [
      "\u001b[7m\u001b[1m\u001b[32m                                                                                \u001b[0m\n",
      "\u001b[7m\u001b[1m\u001b[32m                   ~~ Simulation Successfully Initialized ~~                    \u001b[0m\n",
      "\u001b[7m\u001b[1m\u001b[32m                                                                                \u001b[0m\n"
     ]
    }
   ],
   "source": []
  },
  {
   "cell_type": "code",
   "execution_count": 6,
   "metadata": {},
   "outputs": [
    {
     "data": {
      "text/plain": [
       "<astroemperor.emp.Simulation at 0x723e8df39760>"
      ]
     },
     "execution_count": 6,
     "metadata": {},
     "output_type": "execute_result"
    }
   ],
   "source": [
    "sim"
   ]
  },
  {
   "cell_type": "markdown",
   "metadata": {},
   "source": [
    "## Results\n",
    "We can look at the results in the /datalogs/Peg51/ folder."
   ]
  },
  {
   "cell_type": "code",
   "execution_count": 4,
   "metadata": {},
   "outputs": [
    {
     "data": {
      "text/plain": [
       "\"\\nsim.set_engine('dynesty_dynamic')  # sets the engine\\nsim.engine_config['queue_size'] = sim.cores__\\nsim.engine_config['nlive'] = 1500\\nsim.engine_config['sample'] = 'rwalk'  # 'auto', 'unif', 'rwalk', 'slice', 'rslice'\\n\""
      ]
     },
     "execution_count": 4,
     "metadata": {},
     "output_type": "execute_result"
    }
   ],
   "source": [
    "'''\n",
    "sim.set_engine('dynesty_dynamic')  # sets the engine\n",
    "sim.engine_config['queue_size'] = sim.cores__\n",
    "sim.engine_config['nlive'] = 1500\n",
    "sim.engine_config['sample'] = 'rwalk'  # 'auto', 'unif', 'rwalk', 'slice', 'rslice'\n",
    "'''"
   ]
  }
 ],
 "metadata": {
  "kernelspec": {
   "display_name": "base",
   "language": "python",
   "name": "python3"
  },
  "language_info": {
   "codemirror_mode": {
    "name": "ipython",
    "version": 3
   },
   "file_extension": ".py",
   "mimetype": "text/x-python",
   "name": "python",
   "nbconvert_exporter": "python",
   "pygments_lexer": "ipython3",
   "version": "3.12.4"
  }
 },
 "nbformat": 4,
 "nbformat_minor": 2
}
