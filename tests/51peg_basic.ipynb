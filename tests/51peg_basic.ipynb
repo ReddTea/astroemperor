{
 "cells": [
  {
   "cell_type": "markdown",
   "metadata": {},
   "source": [
    "# 51 Peg\n",
    "\n",
    "This section is a hands-on tutorial on how to make a simple run.\n",
    "We use the 51 Peg RV data available on [GitHub](https://github.com/ReddTea/astroemperor/tree/main/tests/datafiles/51Peg/RV)."
   ]
  },
  {
   "cell_type": "markdown",
   "metadata": {
    "vscode": {
     "languageId": "plaintext"
    }
   },
   "source": [
    "## Data\n",
    "We need to set up our working directory with two subfolders, `datafiles` and `datalogs`. \n",
    "\n",
    "`datafiles` will contain our RV catalogues. For each target or system we create a subfolder with the system name. In this case, `51Peg`. Inside, we create a second subfolder, named `RV`, which will contain the data to be read.\n",
    "\n",
    "We copy-paste the file downloaded from GitHub into `/datafiles/51Peg/RV/`.\n",
    "\n",
    "\n",
    "```\n",
    "📂working_directory\n",
    " ┣ 📜mini_test.py\n",
    " ┣ 📂datafiles\n",
    " ┃ ┣ 📂51Peg\n",
    " ┃ ┃ ┗ 📂RV\n",
    " ┃ ┃ ┃ ┗ 📜51peg.vels\n",
    " ┣ 📂datalogs\n",
    " ┃ ┣ 📂51Peg\n",
    " ┃ ┃ ┗ 📂run_1\n",
    "```"
   ]
  },
  {
   "cell_type": "markdown",
   "metadata": {
    "vscode": {
     "languageId": "plaintext"
    }
   },
   "source": [
    "## Setting up EMPEROR\n",
    "\n",
    "Under our working directory, we create a python file named `mini_test`.\n",
    "First, we import the library and start our simulation:"
   ]
  },
  {
   "cell_type": "code",
   "execution_count": 1,
   "metadata": {},
   "outputs": [
    {
     "name": "stdout",
     "output_type": "stream",
     "text": [
      "I couldnt grab the terminal size. Trying with pandas...\n",
      "Terminal size with pandas successful!\n",
      "\u001b[7m\u001b[1m\u001b[32m                                                                                \u001b[0m\n",
      "\u001b[7m\u001b[1m\u001b[32m                   ~~ Simulation Successfully Initialized ~~                    \u001b[0m\n",
      "\u001b[7m\u001b[1m\u001b[32m                                                                                \u001b[0m\n",
      "\n",
      "\n",
      "\u001b[34m                         \n",
      "Reading data from 51peg.vels                          \u001b[0m\n",
      "\n",
      "\n",
      "\n",
      "\n",
      "\n",
      "\n"
     ]
    }
   ],
   "source": [
    "import astroemperor as emp\n",
    "import numpy as np\n",
    "np.random.seed(1234)\n",
    "\n",
    "\n",
    "sim = emp.Simulation()\n",
    "sim.load_data('51Peg')  # folder read from /datafiles/"
   ]
  },
  {
   "cell_type": "markdown",
   "metadata": {},
   "source": [
    "### Setting the engine\n",
    "\n",
    "For this example, we will use `reddemcee`, with 10 temperatures, 500 walkers, 3000 sweeps each of 1 step:"
   ]
  },
  {
   "cell_type": "code",
   "execution_count": 2,
   "metadata": {},
   "outputs": [],
   "source": [
    "sim.set_engine('reddemcee')\n",
    "sim.engine_config['setup'] = [10, 500, 3000, 1]"
   ]
  },
  {
   "cell_type": "markdown",
   "metadata": {},
   "source": [
    "### Setting the model\n",
    "We feed the name of the instrument (optional), as well as the starmass for calculating the minimum-mass and semi-major axis. We will use the Keplerian parameterisation (P, K, \\\\(\\phi\\\\), \\\\(e_{s}\\\\), \\\\(e_{c}\\\\)). We add some boundaries to speed up the process, and add some initial positions:"
   ]
  },
  {
   "cell_type": "code",
   "execution_count": null,
   "metadata": {},
   "outputs": [],
   "source": [
    "sim.instrument_names_RV = ['LICK']\n",
    "sim.starmass = 1.12\n",
    "sim.keplerian_parameterisation = 1\n",
    "\n",
    "\n",
    "sim.add_condition(['Period 1', 'limits', [3, 5]])\n",
    "sim.add_condition(['Amplitude 1', 'limits', [45, 60]])\n",
    "\n",
    "sim.add_condition(['Offset 1', 'limits', [-10., 10.]])\n",
    "\n",
    "sim.add_condition(['Period 1', 'init_pos', [4.1, 4.3]])\n",
    "sim.add_condition(['Amplitude 1', 'init_pos', [50, 60]])"
   ]
  },
  {
   "cell_type": "markdown",
   "metadata": {},
   "source": [
    "### Plotting Options\n",
    "We add some plotting options to speed up this test a little. We will only plot the posteriors for the cold chain, and two intermediate chains. Also, we won't use the `arviz` optional plots."
   ]
  },
  {
   "cell_type": "code",
   "execution_count": 4,
   "metadata": {},
   "outputs": [],
   "source": [
    "sim.plot_posteriors['temps'] = [0, 2, 6]\n",
    "sim.plot_trace['plot'] = False"
   ]
  },
  {
   "cell_type": "markdown",
   "metadata": {},
   "source": [
    "Finally, we run our simulation (it will take some minutes):"
   ]
  },
  {
   "cell_type": "code",
   "execution_count": 5,
   "metadata": {},
   "outputs": [
    {
     "name": "stdout",
     "output_type": "stream",
     "text": [
      "                              \u001b[1m\u001b[32mOffset\u001b[0m \u001b[32mblock added\u001b[0m, \u001b[32mOffsetBlock\u001b[0m\n",
      "\n",
      "\n",
      "                              \u001b[1m\u001b[32mJitter\u001b[0m \u001b[32mblock added\u001b[0m, \u001b[32mJitterBlock\u001b[0m\n",
      "\n",
      "\n",
      "\n",
      "Condition applied: Parameter \u001b[4mOffset 1\u001b[0m attribute \u001b[4mlimits\u001b[0m set to \u001b[4m[-10.0, 10.0]\u001b[0m\n",
      "\n",
      "\n",
      "\u001b[7m\u001b[34m                                ~~ Setup Info ~~                                \u001b[0m\n",
      "\n",
      "\n",
      "\u001b[34mCurrent Engine is            \u001b[1mreddemcee 0.9\u001b[0m\u001b[0m\n",
      "\u001b[34mNumber of cores is           \u001b[1m24\u001b[0m\u001b[0m\n",
      "\u001b[34mSave location is             \u001b[1mdatalogs/51Peg/run_4/k0\u001b[0m\u001b[0m\n",
      "\u001b[34mDynamical Criteria is        \u001b[1mNone\u001b[0m\u001b[0m\n",
      "\u001b[34mPosterior fit method is      \u001b[1mGaussian Mixtures\u001b[0m\u001b[0m\n",
      "\u001b[34mLimits constrain method is   \u001b[1msigma\u001b[0m\u001b[0m\n",
      "\u001b[34mModel Selection method is    \u001b[1mBIC\u001b[0m\u001b[0m\n",
      "\n",
      "\n",
      "\u001b[7m\u001b[34m                           ~~ Automatically Saving ~~                           \u001b[0m\n",
      "\n",
      "\n",
      "\u001b[34mLogger       : \u001b[7m\u001b[32m✔\u001b[0m\u001b[0m\n",
      "\u001b[34mSamples      : \u001b[7m\u001b[31m✘\u001b[0m\u001b[0m\n",
      "\u001b[34mPosteriors   : \u001b[7m\u001b[32m✔\u001b[0m\u001b[0m\n",
      "\u001b[34mLikelihoods  : \u001b[7m\u001b[32m✔\u001b[0m\u001b[0m\n",
      "\u001b[34mPlots: Posteriors           : \u001b[7m\u001b[32m✔\u001b[0m\u001b[0m\n",
      "\u001b[34mPlots: Keplerian Model      : \u001b[7m\u001b[32m✔\u001b[0m\u001b[0m\n",
      "\u001b[34mPlots: Gaussian Mixture     : \u001b[7m\u001b[32m✔\u001b[0m\u001b[0m\n",
      "\u001b[34mPlots: Parameter Histograms : \u001b[7m\u001b[32m✔\u001b[0m\u001b[0m\n",
      "\u001b[34mPlots: Corner               : \u001b[7m\u001b[32m✔\u001b[0m\u001b[0m\n",
      "\n",
      "\n",
      "\u001b[7m\u001b[1m\u001b[33m                               ~~ Pre-Run Info ~~                               \u001b[0m\n",
      "\n",
      "\n",
      "Parameter    Prior               Limits\n",
      "-----------  ------------------  ---------------------------------\n",
      "Offset 1     ~𝓤 (-10.0, 10.0)    [-10.  10.]\n",
      "\n",
      "----------  ------------------  ---------------------------------\n",
      "Jitter 1    ~𝓝 (5, 5)           [ 0.    75.852]\n",
      "\n",
      "\n",
      "\n",
      "\n",
      "\u001b[33mMath for OffsetBlock: \u001b[0m\n",
      "\u001b[33m                                      γ₀|ᵢ                                      \u001b[0m\n",
      "\u001b[33mMath for JitterBlock: \u001b[0m\n",
      "\u001b[33m                                       𝝈ᵢ                                       \u001b[0m\n",
      "\u001b[7m\u001b[32m                               Generating Samples                               \u001b[0m\n",
      "\n",
      "\n"
     ]
    },
    {
     "name": "stderr",
     "output_type": "stream",
     "text": [
      "100%|██████████| 30000/30000 [05:15<00:00, 94.99it/s] \n"
     ]
    },
    {
     "name": "stdout",
     "output_type": "stream",
     "text": [
      "temp_script.py took 316.087 seconds\n",
      "Autocorrelation tolerance=50 fails. Setting to 0.\n",
      "\u001b[32m                         Calculating Gaussian Mixtures                          \u001b[0m\n"
     ]
    },
    {
     "name": "stderr",
     "output_type": "stream",
     "text": [
      "100%|██████████| 2/2 [00:04<00:00,  2.45s/it]"
     ]
    },
    {
     "name": "stdout",
     "output_type": "stream",
     "text": [
      "\n",
      "\n",
      "\u001b[7m\u001b[1m\u001b[33m                                 ~~ Best Fit ~~                                 \u001b[0m\n",
      "\n",
      "\n",
      "Parameter      Value (max)  Range (-+ sig)    Prior             Limits\n",
      "-----------  -------------  ----------------  ----------------  -----------\n",
      "Offset 1            -0.148  [-1.02   1.131]   ~𝓤 (-10.0, 10.0)  [-10.  10.]\n",
      "\n",
      "-----------  -------------  ----------------  ---------  ---------------\n",
      "Jitter 1            36.064  [-0.61   0.726]   ~𝓝 (5, 5)  [ 0.    75.852]\n",
      "\n",
      "\n",
      "\n",
      "\n",
      "\u001b[7m\u001b[1m\u001b[33m                                 ~~ Run Info ~~                                 \u001b[0m\n",
      "\n",
      "\n",
      "\n",
      "\n",
      "\n",
      "\n",
      "Info                                 Value\n",
      "-----------------------------------  ------------------------------------------------------------------------------------------\n",
      "Star Name                      :     51Peg\n",
      "The sample sizes are           :     [1500000, 1500000, 1500000, 1500000, 1500000, 1500000, 1500000, 1500000, 1500000, 1500000]\n",
      "Temps, Walkers, Sweeps, Steps  :     [10, 500, 3000, 1]\n",
      "Model used is                  :     ['OffsetBlock', 'JitterBlock'](2)\n",
      "N data                         :     256\n",
      "t0 epoch is                    :     2450002.665695\n",
      "Number of Dimensions           :     2\n",
      "Degrees of Freedom             :     254\n",
      "\n",
      "\n",
      "----------------------------------------\n",
      "\n",
      "\n",
      "\n",
      "Decay Timescale, Rate, Scheme   :   1000, 1, 0\n",
      "\n",
      "Beta Detail                     :   [1.0, 0.4988, 0.262, 0.1382, 0.07054, 0.03496, 0.01536, 0.005511, 0.001414, 2.478e-08]\n",
      "\n",
      "Mean Logl Detail                :   [-1309.571, -1313.839, -1322.789, -1340.481, -1373.662, -1432.908, -1540.209, -1754.449, -2287.822, -3806.949]\n",
      "\n",
      "Mean Acceptance Fraction        :   [0.713, 0.713, 0.712, 0.712, 0.709, 0.702, 0.693, 0.684, 0.677, 0.658]\n",
      "\n",
      "Autocorrelation Time            :   [16.923, 19.420]\n",
      "\n",
      "Temperature Swap Rate           :   [0.342, 0.342, 0.343, 0.345, 0.347, 0.349, 0.352, 0.355, 0.358]\n",
      "\n",
      "Mean Swap Distance              :   [1.171, 1.511, 1.823, 2.073, 2.272, 2.432, 2.581, 2.724, 2.901]\n",
      "\n",
      "\n",
      "\n",
      "\n",
      "\u001b[7m\u001b[1m\u001b[33m                           ~~ Statistical Details ~~                            \u001b[0m\n",
      "\n",
      "\n",
      "\n",
      "\n",
      "Statistic                      Value\n",
      "-----------------------------  ------------------\n",
      "The evidence is             :  -1332.038 +- 2.122\n",
      "The maximum posterior is    :  -1333.617\n",
      "The maximum likelihood is   :  -1308.794\n",
      "The BIC is                  :  2628.678\n",
      "The AIC is                  :  2621.588\n",
      "The DIC is                  :  2688.936\n",
      "The HQIC is                 :  2624.440\n",
      "The Bayes Factor is         :  23.244\n",
      "The chi2 is                 :  302.676\n",
      "The reduced chi2 is         :  1.192\n",
      "The RMSE is                 :  39.917\n",
      "The RMSi is                 :  [39.917]\n",
      "The Weights are             :  [1.]\n",
      "\n",
      "\n",
      "\n",
      "\n",
      "\n",
      "\n",
      "\u001b[32m                        Plotting Posterior Scatter Plot                         \u001b[0m\n"
     ]
    },
    {
     "name": "stderr",
     "output_type": "stream",
     "text": [
      "\n",
      "100%|██████████| 4/4 [00:06<00:00,  1.53s/it]\n",
      "100%|██████████| 2/2 [00:05<00:00,  2.92s/it]\n"
     ]
    },
    {
     "name": "stdout",
     "output_type": "stream",
     "text": [
      "\n",
      "\n",
      "\u001b[32m                            Plotting Histograms Plot                            \u001b[0m\n"
     ]
    },
    {
     "name": "stderr",
     "output_type": "stream",
     "text": [
      "100%|██████████| 20/20 [00:08<00:00,  2.42it/s]\n"
     ]
    },
    {
     "name": "stdout",
     "output_type": "stream",
     "text": [
      "\n",
      "\n",
      "\u001b[32m                           Plotting Keplerian Models                            \u001b[0m\n",
      "\n",
      "\n",
      "\u001b[32m                          Plotting E[log L](beta) Plot                          \u001b[0m\n"
     ]
    },
    {
     "name": "stderr",
     "output_type": "stream",
     "text": [
      "100%|██████████| 1/1 [00:00<00:00,  7.10it/s]\n"
     ]
    },
    {
     "name": "stdout",
     "output_type": "stream",
     "text": [
      "\n",
      "\n",
      "\u001b[32m                             Plotting Beta Density                              \u001b[0m\n"
     ]
    },
    {
     "name": "stderr",
     "output_type": "stream",
     "text": [
      "100%|██████████| 1/1 [00:00<00:00,  6.13it/s]\n"
     ]
    },
    {
     "name": "stdout",
     "output_type": "stream",
     "text": [
      "\n",
      "\n",
      "\u001b[32m                           Plotting Temperature Rates                           \u001b[0m\n"
     ]
    },
    {
     "name": "stderr",
     "output_type": "stream",
     "text": [
      "100%|██████████| 9/9 [00:00<00:00,  9.46it/s]\n"
     ]
    },
    {
     "name": "stdout",
     "output_type": "stream",
     "text": [
      "\n",
      "\n",
      "\u001b[32m                           Plotting Gaussian Mixtures                           \u001b[0m\n"
     ]
    },
    {
     "name": "stderr",
     "output_type": "stream",
     "text": [
      "100%|██████████| 2/2 [00:00<00:00,  4.63it/s]\n"
     ]
    },
    {
     "name": "stdout",
     "output_type": "stream",
     "text": [
      "\n",
      "\n",
      "\n",
      "\n",
      "Time Table\n",
      "\u001b[34mTime RUN                   \u001b[1m: 00:05:19\u001b[0m\u001b[0m\n",
      "\u001b[34mTime POSTPROCESS           \u001b[1m: 00:00:14\u001b[0m\u001b[0m\n",
      "\u001b[34mTime CALCULATE GM          \u001b[1m: 00:00:04\u001b[0m\u001b[0m\n",
      "\u001b[34mTime plot_posteriors       \u001b[1m: 00:00:12\u001b[0m\u001b[0m\n",
      "\u001b[34mTime plot_histograms       \u001b[1m: 00:00:08\u001b[0m\u001b[0m\n",
      "\u001b[34mTime plot_keplerian_model  \u001b[1m: 00:00:00\u001b[0m\u001b[0m\n",
      "\u001b[34mTime plot_betas            \u001b[1m: 00:00:00\u001b[0m\u001b[0m\n",
      "\u001b[34mTime plot_beta_density     \u001b[1m: 00:00:00\u001b[0m\u001b[0m\n",
      "\u001b[34mTime plot_rates            \u001b[1m: 00:00:00\u001b[0m\u001b[0m\n",
      "\u001b[34mTime plot_trace            \u001b[1m: 00:00:00\u001b[0m\u001b[0m\n",
      "\u001b[34m\n",
      "past BIC - present BIC > 5\u001b[0m\n",
      "\u001b[1m\u001b[34m\n",
      " BIC condition met!!\u001b[0m\n",
      "\u001b[34minf - 2628.678 > 5\u001b[0m\n",
      "\n",
      "\n",
      "\u001b[7m\u001b[1m\u001b[35m                                                                                \u001b[0m\n",
      "\u001b[7m\u001b[1m\u001b[35m                      ~~ Proceeding with the next run ! ~~                      \u001b[0m\n",
      "\u001b[7m\u001b[1m\u001b[35m                                                                                \u001b[0m\n",
      "\n",
      "\n",
      "                              \u001b[1m\u001b[32mKeplerian\u001b[0m \u001b[32mblock added\u001b[0m, \u001b[32mKeplerianBlock 1\u001b[0m\n",
      "\n",
      "\n",
      "\n",
      "Condition applied: Parameter \u001b[4mPeriod 1\u001b[0m attribute \u001b[4mlimits\u001b[0m set to \u001b[4m[3, 5]\u001b[0m\n",
      "\n",
      "Condition applied: Parameter \u001b[4mPeriod 1\u001b[0m attribute \u001b[4minit_pos\u001b[0m set to \u001b[4m[4.1, 4.3]\u001b[0m\n",
      "\n",
      "Condition applied: Parameter \u001b[4mAmplitude 1\u001b[0m attribute \u001b[4mlimits\u001b[0m set to \u001b[4m[45, 60]\u001b[0m\n",
      "\n",
      "Condition applied: Parameter \u001b[4mAmplitude 1\u001b[0m attribute \u001b[4minit_pos\u001b[0m set to \u001b[4m[50, 60]\u001b[0m\n",
      "\n",
      "Condition applied: Parameter \u001b[4mJitter 1\u001b[0m attribute \u001b[4mlimits\u001b[0m set to \u001b[4m[1e-05, 40.60023260950122]\u001b[0m\n",
      "\n",
      "\n",
      "\n",
      "\n",
      "\u001b[7m\u001b[1m\u001b[33m                               ~~ Pre-Run Info ~~                               \u001b[0m\n",
      "\n",
      "\n",
      "Parameter      Prior               Limits\n",
      "-------------  ------------------  ---------------------------------\n",
      "Period 1       ~𝓤 (3, 5)           [3. 5.]\n",
      "Amplitude 1    ~𝓤 (45, 60)         [45. 60.]\n",
      "Phase 1        ~𝓤 (0.0, 6.283)     [0.    6.283]\n",
      "Ecc_sin 1      ~𝓤 (-1, 1)          [-1.  1.]\n",
      "Ecc_cos 1      ~𝓤 (-1, 1)          [-1.  1.]\n",
      "\n",
      "-------------  ------------------  ---------------------------------\n",
      "Offset 1       ~𝓤 (-10.0, 10.0)    [-10.  10.]\n",
      "\n",
      "-------------  ------------------  ---------------------------------\n",
      "Jitter 1       ~𝓝 (5, 5)           [ 0.  40.6]\n",
      "\n",
      "\n",
      "\n",
      "\n",
      "\u001b[33mMath for KeplerianBlock 1: \u001b[0m\n",
      "\u001b[33m                       K⋅(cos(ν(t,P,𝜙,e)+𝜔 )+e⋅cos(𝜔 ))|₁                       \u001b[0m\n",
      "\u001b[33mMath for OffsetBlock: \u001b[0m\n",
      "\u001b[33m                                      γ₀|ᵢ                                      \u001b[0m\n",
      "\u001b[33mMath for JitterBlock: \u001b[0m\n",
      "\u001b[33m                                       𝝈ᵢ                                       \u001b[0m\n",
      "\u001b[7m\u001b[32m                               Generating Samples                               \u001b[0m\n",
      "\n",
      "\n"
     ]
    },
    {
     "name": "stderr",
     "output_type": "stream",
     "text": [
      "100%|██████████| 30000/30000 [05:13<00:00, 95.55it/s] \n"
     ]
    },
    {
     "name": "stdout",
     "output_type": "stream",
     "text": [
      "temp_script.py took 314.264 seconds\n",
      "Autocorrelation tolerance=50 fails. Setting to 0.\n",
      "\u001b[32m                         Calculating Gaussian Mixtures                          \u001b[0m\n"
     ]
    },
    {
     "name": "stderr",
     "output_type": "stream",
     "text": [
      "100%|██████████| 11/11 [00:30<00:00,  2.75s/it]"
     ]
    },
    {
     "name": "stdout",
     "output_type": "stream",
     "text": [
      "\n",
      "\n",
      "\u001b[7m\u001b[1m\u001b[33m                                 ~~ Best Fit ~~                                 \u001b[0m\n",
      "\n",
      "\n",
      "Parameter            Value (max)  Range (-+ sig)    Prior            Limits\n",
      "-----------------  -------------  ----------------  ---------------  -------------\n",
      "Period 1                   4.231  [-0.  0.]         ~𝓤 (3, 5)        [3. 5.]\n",
      "Amplitude 1               55.957  [-0.253  0.35 ]   ~𝓤 (45, 60)      [45. 60.]\n",
      "Phase 1                    1.769  [-0.932  0.832]   ~𝓤 (0.0, 6.283)  [0.    6.283]\n",
      "Ecc_sin 1                  0.087  [-0.044  0.028]   ~𝓤 (-1, 1)       [-1.  1.]\n",
      "Ecc_cos 1                  0.061  [-0.005  0.053]   ~𝓤 (-1, 1)       [-1.  1.]\n",
      "Eccentricity 1             0.011  [-0.005  0.004]                    [0. 1.]\n",
      "Longitude 1                0.964  [-0.827  2.214]                    [0.    6.283]\n",
      "Semi-Major Axis 1          0.053  [-0.  0.]                          [   0. 1000.]\n",
      "Minimum Mass 1             0.48   [-0.002  0.003]                    [   0. 1000.]\n",
      "\n",
      "-----------  -------------  ----------------  ----------------  -----------\n",
      "Offset 1             3.642  [-0.238  0.208]   ~𝓤 (-10.0, 10.0)  [-10.  10.]\n",
      "\n",
      "-----------  -------------  ----------------  ---------  -----------\n",
      "Jitter 1             2.961  [-0.144  0.571]   ~𝓝 (5, 5)  [ 0.  40.6]\n",
      "\n",
      "\n",
      "\n",
      "\n",
      "\u001b[7m\u001b[1m\u001b[33m                                 ~~ Run Info ~~                                 \u001b[0m\n",
      "\n",
      "\n",
      "\n",
      "\n",
      "\n",
      "\n",
      "Info                                 Value\n",
      "-----------------------------------  ------------------------------------------------------------------------------------------\n",
      "Star Name                      :     51Peg\n",
      "The sample sizes are           :     [1500000, 1500000, 1500000, 1500000, 1500000, 1500000, 1500000, 1500000, 1500000, 1500000]\n",
      "Temps, Walkers, Sweeps, Steps  :     [10, 500, 3000, 1]\n",
      "Model used is                  :     ['KeplerianBlock 1', 'OffsetBlock', 'JitterBlock'](7)\n",
      "N data                         :     256\n",
      "t0 epoch is                    :     2450002.665695\n",
      "Number of Dimensions           :     7\n",
      "Degrees of Freedom             :     249\n",
      "\n",
      "\n",
      "----------------------------------------\n",
      "\n",
      "\n",
      "\n",
      "Decay Timescale, Rate, Scheme   :   1000, 1, 0\n",
      "\n",
      "Beta Detail                     :   [1.0, 0.4291, 0.1827, 0.0798, 0.034, 0.01583, 0.009497, 0.003899, 0.0009547, 2.478e-08]\n",
      "\n",
      "Mean Logl Detail                :   [-880.290, -889.546, -904.799, -933.062, -987.718, -1132.631, -1430.948, -1836.757, -2715.415, -5643.849]\n",
      "\n",
      "Mean Acceptance Fraction        :   [0.188, 0.181, 0.183, 0.194, 0.212, 0.191, 0.155, 0.183, 0.216, 0.235]\n",
      "\n",
      "Autocorrelation Time            :   [12.333, 85.289, 201.853, 142.069, 228.336, 87.385, 112.996]\n",
      "\n",
      "Temperature Swap Rate           :   [0.290, 0.290, 0.290, 0.289, 0.289, 0.288, 0.288, 0.288, 0.288]\n",
      "\n",
      "Mean Swap Distance              :   [0.620, 0.880, 1.230, 1.736, 2.412, 3.141, 3.076, 3.058, 3.080]\n",
      "\n",
      "\n",
      "\n",
      "\n",
      "\u001b[7m\u001b[1m\u001b[33m                           ~~ Statistical Details ~~                            \u001b[0m\n",
      "\n",
      "\n",
      "\n",
      "\n",
      "Statistic                      Value\n",
      "-----------------------------  -----------------\n",
      "The evidence is             :  -909.358 +- 2.674\n",
      "The maximum posterior is    :  -881.725\n",
      "The maximum likelihood is   :  -869.493\n",
      "The BIC is                  :  1777.801\n",
      "The AIC is                  :  1752.985\n",
      "The DIC is                  :  9769.165\n",
      "The HQIC is                 :  1762.966\n",
      "The Bayes Factor is         :  39.865\n",
      "The chi2 is                 :  268.680\n",
      "The reduced chi2 is         :  1.079\n",
      "The RMSE is                 :  7.629\n",
      "The RMSi is                 :  [7.629]\n",
      "The Weights are             :  [1.]\n",
      "\n",
      "\n",
      "\n",
      "\n",
      "\n",
      "\n",
      "\u001b[32m                        Plotting Posterior Scatter Plot                         \u001b[0m\n"
     ]
    },
    {
     "name": "stderr",
     "output_type": "stream",
     "text": [
      "\n",
      "100%|██████████| 4/4 [00:24<00:00,  6.16s/it]\n",
      "100%|██████████| 4/4 [00:25<00:00,  6.26s/it]\n",
      "100%|██████████| 1/1 [00:05<00:00,  5.56s/it]\n"
     ]
    },
    {
     "name": "stdout",
     "output_type": "stream",
     "text": [
      "\n",
      "\n",
      "\u001b[32m                            Plotting Histograms Plot                            \u001b[0m\n"
     ]
    },
    {
     "name": "stderr",
     "output_type": "stream",
     "text": [
      "100%|██████████| 30/30 [00:31<00:00,  1.04s/it]\n"
     ]
    },
    {
     "name": "stdout",
     "output_type": "stream",
     "text": [
      "\n",
      "\n",
      "\u001b[32m                           Plotting Keplerian Models                            \u001b[0m\n",
      "\n",
      "\n",
      "\u001b[32m                          Plotting E[log L](beta) Plot                          \u001b[0m\n"
     ]
    },
    {
     "name": "stderr",
     "output_type": "stream",
     "text": [
      "100%|██████████| 1/1 [00:00<00:00,  8.02it/s]\n"
     ]
    },
    {
     "name": "stdout",
     "output_type": "stream",
     "text": [
      "\n",
      "\n",
      "\u001b[32m                             Plotting Beta Density                              \u001b[0m\n"
     ]
    },
    {
     "name": "stderr",
     "output_type": "stream",
     "text": [
      "100%|██████████| 1/1 [00:00<00:00,  5.37it/s]\n"
     ]
    },
    {
     "name": "stdout",
     "output_type": "stream",
     "text": [
      "\n",
      "\n",
      "\u001b[32m                           Plotting Temperature Rates                           \u001b[0m\n"
     ]
    },
    {
     "name": "stderr",
     "output_type": "stream",
     "text": [
      "100%|██████████| 9/9 [00:01<00:00,  8.92it/s]\n"
     ]
    },
    {
     "name": "stdout",
     "output_type": "stream",
     "text": [
      "\n",
      "\n",
      "\u001b[32m                           Plotting Gaussian Mixtures                           \u001b[0m\n"
     ]
    },
    {
     "name": "stderr",
     "output_type": "stream",
     "text": [
      " 64%|██████▎   | 7/11 [00:02<00:01,  2.85it/s]"
     ]
    },
    {
     "name": "stdout",
     "output_type": "stream",
     "text": [
      "\n",
      "\n",
      "\n",
      "\n",
      "Time Table\n",
      "\u001b[34mTime RUN                   \u001b[1m: 00:05:18\u001b[0m\u001b[0m\n",
      "\u001b[34mTime POSTPROCESS           \u001b[1m: 00:00:49\u001b[0m\u001b[0m\n",
      "\u001b[34mTime CALCULATE GM          \u001b[1m: 00:00:30\u001b[0m\u001b[0m\n",
      "\u001b[34mTime plot_posteriors       \u001b[1m: 00:00:56\u001b[0m\u001b[0m\n",
      "\u001b[34mTime plot_histograms       \u001b[1m: 00:00:31\u001b[0m\u001b[0m\n",
      "\u001b[34mTime plot_keplerian_model  \u001b[1m: 00:00:00\u001b[0m\u001b[0m\n",
      "\u001b[34mTime plot_betas            \u001b[1m: 00:00:00\u001b[0m\u001b[0m\n",
      "\u001b[34mTime plot_beta_density     \u001b[1m: 00:00:00\u001b[0m\u001b[0m\n",
      "\u001b[34mTime plot_rates            \u001b[1m: 00:00:01\u001b[0m\u001b[0m\n",
      "\u001b[34mTime plot_trace            \u001b[1m: 00:00:00\u001b[0m\u001b[0m\n",
      "\u001b[34m\n",
      "past BIC - present BIC > 5\u001b[0m\n",
      "\u001b[1m\u001b[34m\n",
      " BIC condition met!!\u001b[0m\n",
      "\u001b[34m2628.678 - 1777.801 > 5\u001b[0m\n",
      "\n",
      "\n",
      "\u001b[7m\u001b[1m\u001b[35m                                                                                \u001b[0m\n",
      "\u001b[7m\u001b[1m\u001b[35m                              ~~ End of the Run ~~                              \u001b[0m\n",
      "\u001b[7m\u001b[1m\u001b[35m                                                                                \u001b[0m\n",
      "\n",
      "\n"
     ]
    },
    {
     "name": "stderr",
     "output_type": "stream",
     "text": [
      "\n"
     ]
    }
   ],
   "source": [
    "sim.autorun(0, 1)"
   ]
  },
  {
   "cell_type": "markdown",
   "metadata": {},
   "source": []
  },
  {
   "cell_type": "code",
   "execution_count": null,
   "metadata": {},
   "outputs": [],
   "source": []
  },
  {
   "cell_type": "code",
   "execution_count": null,
   "metadata": {},
   "outputs": [],
   "source": []
  }
 ],
 "metadata": {
  "kernelspec": {
   "display_name": "base",
   "language": "python",
   "name": "python3"
  },
  "language_info": {
   "codemirror_mode": {
    "name": "ipython",
    "version": 3
   },
   "file_extension": ".py",
   "mimetype": "text/x-python",
   "name": "python",
   "nbconvert_exporter": "python",
   "pygments_lexer": "ipython3",
   "version": "3.12.4"
  }
 },
 "nbformat": 4,
 "nbformat_minor": 2
}
