{
 "cells": [
  {
   "cell_type": "markdown",
   "metadata": {},
   "source": [
    "# 51 Peg - advanced\n",
    "\n",
    "This section is a hands-on tutorial on how to make a run taking advantage of `EMPEROR`'s options.\n",
    "Similarly to the previous tutorial, we use the 51 Peg RV data available on [GitHub](https://github.com/ReddTea/astroemperor/tree/main/tests/datafiles/51Peg/RV).\n",
    "\n",
    "First, we start our simulation:"
   ]
  },
  {
   "cell_type": "code",
   "execution_count": 1,
   "metadata": {},
   "outputs": [
    {
     "name": "stdout",
     "output_type": "stream",
     "text": [
      "I couldnt grab the terminal size. Trying with pandas...\n",
      "Terminal size with pandas successful!\n",
      "\u001b[7m\u001b[1m\u001b[32m                                                                                \u001b[0m\n",
      "\u001b[7m\u001b[1m\u001b[32m                   ~~ Simulation Successfully Initialized ~~                    \u001b[0m\n",
      "\u001b[7m\u001b[1m\u001b[32m                                                                                \u001b[0m\n",
      "\n",
      "\n",
      "\u001b[34m                         \n",
      "Reading data from 51peg.vels                          \u001b[0m\n",
      "\n",
      "\n",
      "\n",
      "\n",
      "\n",
      "\n"
     ]
    }
   ],
   "source": [
    "import astroemperor as emp\n",
    "import numpy as np\n",
    "np.random.seed(1234)\n",
    "\n",
    "\n",
    "sim = emp.Simulation()\n",
    "sim.load_data('51Peg')  # folder read from /datafiles/"
   ]
  },
  {
   "cell_type": "markdown",
   "metadata": {
    "vscode": {
     "languageId": "plaintext"
    }
   },
   "source": [
    "## General Options\n",
    "We take a deeper look into the Emperor options, starting with parallelisation, and sampler backend.\n",
    "\n",
    "### Parallelisation\n",
    "Parallelisation can be done with several different libraries. The available options are:\n",
    "\n",
    "```multiprocess_method```: To change the parallelisation scheme.\n",
    "\n",
    "```cores__```: Misnomer for how many threads (and not cores) to use.\n",
    "\n",
    "\n",
    "| Code | Library         | Pool           |\n",
    "|------|-----------------|----------------|\n",
    "| 0    | None            | None           |\n",
    "| 1    | multiprocessing | Pool           |\n",
    "| 2    | multiprocess    | Pool           |\n",
    "| 3    | multiprocessing | ThreadPool     |\n",
    "| 4    | pathos          | ProcessingPool |\n",
    "| 5    | schwimmbad      | SerialPool     |\n",
    "| 6    | schwimmbad      | JoblibPool     |\n",
    "| 7    | schwimmbad      | MultiPool      |\n",
    "\n",
    "### Sampler backend\n",
    "`reddemcee` has two different backends. `PTBackend` is the default, working exclusively with RAM, and `HDFBackend`, stores the chain in an HDF5 file using `h5py`, saving it there step-by-step.\n",
    "\n",
    "The first one is faster, but requires a higher RAM usage.\n",
    "\n",
    "The second one is safer and less memory-hungry. To use the h5 backend, simply change the `backend_bool` attribute to `True`.\n"
   ]
  },
  {
   "cell_type": "code",
   "execution_count": 2,
   "metadata": {},
   "outputs": [],
   "source": [
    "sim.multiprocess_method = 1  # multiprocessing Pool\n",
    "sim.cores__ = 12  # threads for the run\n",
    "sim.backend_bool = False  # True for h5py backend"
   ]
  },
  {
   "cell_type": "markdown",
   "metadata": {
    "vscode": {
     "languageId": "plaintext"
    }
   },
   "source": [
    "## Engine configuration\n",
    "\n",
    "We add ```set_engine``` with some custom options. We will use a different starting temperature ladder. A good initial ladder increases the efficiency of the adaptation, in the same way a good initial guess for the parameters increases the convergence time.\n",
    "\n",
    "We will use a different adaptation algorithm, based on the specific heat of the system. We also change the adaptation rate, and decay timescale."
   ]
  },
  {
   "cell_type": "code",
   "execution_count": 3,
   "metadata": {},
   "outputs": [],
   "source": [
    "ntemps, nwalkers, nsweeps, nsteps = 10, 256, 2048, 1\n",
    "sim.set_engine('reddemcee')\n",
    "\n",
    "\n",
    "sim.engine_config['setup'] = [ntemps, nwalkers, nsweeps, nsteps]\n",
    "\n",
    "sim.engine_config['betas'] = list(np.linspace(1, 0, ntemps))\n",
    "\n",
    "sim.engine_config['tsw_history'] = True  # save temperature swaps per sweep\n",
    "sim.engine_config['smd_history'] = True  # save swap mean distance per sweep\n",
    "\n",
    "sim.engine_config['adapt_tau'] = 100\n",
    "sim.engine_config['adapt_nu'] = 1.5\n",
    "sim.engine_config['adapt_mode'] = 2  # Specific Heat"
   ]
  },
  {
   "cell_type": "markdown",
   "metadata": {},
   "source": [
    "## Run Configuration\n",
    "We will set up a 10\\% burn-in phase."
   ]
  },
  {
   "cell_type": "code",
   "execution_count": 4,
   "metadata": {},
   "outputs": [],
   "source": [
    "sim.run_config['burnin'] = 0.1"
   ]
  },
  {
   "cell_type": "markdown",
   "metadata": {},
   "source": [
    "### Model Comparison\n",
    "In our example, instead of comparing BIC we will compare Evidences directly.\n",
    "We can change the evidence estimation method between Curvature-aware Thermodynamic Integration (TI+), Geometric-Bridge Stepping Stones (SS+), and a Hybrid algorithm (for more details see the [reddemcee paper](https://arxiv.org/abs/2509.24870))."
   ]
  },
  {
   "cell_type": "code",
   "execution_count": 5,
   "metadata": {},
   "outputs": [
    {
     "name": "stdout",
     "output_type": "stream",
     "text": [
      "Comparison Criteria set to Evidence\n",
      "Comparison Criteria Tolerance set to 10\n"
     ]
    }
   ],
   "source": [
    "sim.set_comparison_criteria('Evidence')\n",
    "sim.set_tolerance(10)  # difference between models\n",
    "\n",
    "sim.evidence_method = 'ss'  # stepping stones"
   ]
  },
  {
   "cell_type": "markdown",
   "metadata": {},
   "source": [
    "## Model Configuration\n",
    "\n",
    "We feed the name of the instrument (optional), as well as the stellar mass for calculating the minimum-mass and semi-major axis, and stellar mass error (optional). We will use the Keplerian parameterisation $(P, K, \\\\(\\phi\\\\), \\\\(e\\\\), \\\\\\omega\\\\). We add some boundaries to speed up the process, and add some initial positions:"
   ]
  },
  {
   "cell_type": "code",
   "execution_count": 6,
   "metadata": {},
   "outputs": [],
   "source": [
    "sim.instrument_names_RV = ['LICK']\n",
    "sim.starmass = 1.12\n",
    "sim.starmass_err = 0.04\n",
    "sim.keplerian_parameterisation = 0\n",
    "\n",
    "\n",
    "sim.add_condition(['Period 1', 'limits', [3, 5]])\n",
    "sim.add_condition(['Amplitude 1', 'limits', [45, 60]])\n",
    "sim.add_condition(['Eccentricity 1', 'limits', [0, 0.5]])\n",
    "\n",
    "sim.add_condition(['Offset 1', 'limits', [-10., 10.]])\n",
    "\n",
    "sim.add_condition(['Period 1', 'init_pos', [4.1, 4.3]])\n",
    "sim.add_condition(['Amplitude 1', 'init_pos', [50, 60]])\n",
    "sim.add_condition(['Eccentricity 1', 'init_pos', [0, 0.1]])"
   ]
  },
  {
   "cell_type": "markdown",
   "metadata": {},
   "source": [
    "### Plotting Options\n",
    "We add some plotting options to speed up this test a little. We will only plot the posteriors for the cold chain, and two intermediate chains. Also, we won't use the `arviz` optional plots."
   ]
  },
  {
   "cell_type": "code",
   "execution_count": 7,
   "metadata": {},
   "outputs": [],
   "source": [
    "sim.plot_posteriors['temps'] = [0]\n",
    "sim.plot_trace['plot'] = False\n",
    "sim.plot_gaussian_mixtures['plot'] = False"
   ]
  },
  {
   "cell_type": "markdown",
   "metadata": {},
   "source": [
    "Finally, we run our simulation (it will take some minutes):"
   ]
  },
  {
   "cell_type": "code",
   "execution_count": 8,
   "metadata": {},
   "outputs": [
    {
     "name": "stdout",
     "output_type": "stream",
     "text": [
      "                              \u001b[1m\u001b[32mOffset\u001b[0m \u001b[32mblock added\u001b[0m, \u001b[32mOffsetBlock\u001b[0m\n",
      "\n",
      "\n",
      "                              \u001b[1m\u001b[32mJitter\u001b[0m \u001b[32mblock added\u001b[0m, \u001b[32mJitterBlock\u001b[0m\n",
      "\n",
      "\n",
      "\n",
      "Condition applied: Parameter \u001b[4mOffset 1\u001b[0m attribute \u001b[4mlimits\u001b[0m set to \u001b[4m[-10.0, 10.0]\u001b[0m\n",
      "\n",
      "\n",
      "\u001b[7m\u001b[34m                                ~~ Setup Info ~~                                \u001b[0m\n",
      "\n",
      "\n",
      "\u001b[34mCurrent Engine is            \u001b[1mreddemcee 1.0\u001b[0m\u001b[0m\n",
      "\u001b[34mNumber of cores is           \u001b[1m12\u001b[0m\u001b[0m\n",
      "\u001b[34mSave location is             \u001b[1mdatalogs/51Peg/run_15/k0\u001b[0m\u001b[0m\n",
      "\u001b[34mDynamical Criteria is        \u001b[1mNone\u001b[0m\u001b[0m\n",
      "\u001b[34mPosterior fit method is      \u001b[1mGaussian Mixtures\u001b[0m\u001b[0m\n",
      "\u001b[34mLimits constrain method is   \u001b[1mrange\u001b[0m\u001b[0m\n",
      "\u001b[34mModel Selection method is    \u001b[1mEvidence\u001b[0m\u001b[0m\n",
      "\n",
      "\n",
      "\u001b[7m\u001b[34m                           ~~ Automatically Saving ~~                           \u001b[0m\n",
      "\n",
      "\n",
      "\u001b[34mLogger       : \u001b[7m\u001b[32m✔\u001b[0m\u001b[0m\n",
      "\u001b[34mSamples      : \u001b[7m\u001b[31m✘\u001b[0m\u001b[0m\n",
      "\u001b[34mPosteriors   : \u001b[7m\u001b[32m✔\u001b[0m\u001b[0m\n",
      "\u001b[34mLikelihoods  : \u001b[7m\u001b[32m✔\u001b[0m\u001b[0m\n",
      "\u001b[34mPlots: Posteriors           : \u001b[7m\u001b[32m✔\u001b[0m\u001b[0m\n",
      "\u001b[34mPlots: Keplerian Model      : \u001b[7m\u001b[32m✔\u001b[0m\u001b[0m\n",
      "\u001b[34mPlots: Gaussian Mixture     : \u001b[7m\u001b[31m✘\u001b[0m\u001b[0m\n",
      "\u001b[34mPlots: Parameter Histograms : \u001b[7m\u001b[32m✔\u001b[0m\u001b[0m\n",
      "\u001b[34mPlots: Corner               : \u001b[7m\u001b[32m✔\u001b[0m\u001b[0m\n",
      "\n",
      "\n",
      "\u001b[7m\u001b[1m\u001b[33m                               ~~ Pre-Run Info ~~                               \u001b[0m\n",
      "\n",
      "\n",
      "Parameter    Prior               Limits\n",
      "-----------  ------------------  ---------------------------------\n",
      "Offset 1     ~𝓤 (-10.0, 10.0)    [-10.  10.]\n",
      "\n",
      "----------  ------------------  ---------------------------------\n",
      "Jitter 1    ~𝓝 (5, 5)           [ 0.    75.852]\n",
      "\n",
      "\n",
      "\n",
      "\n",
      "\u001b[33mMath for OffsetBlock: \u001b[0m\n",
      "\u001b[33m                                      γ₀|ᵢ                                      \u001b[0m\n",
      "\u001b[33mMath for JitterBlock: \u001b[0m\n",
      "\u001b[33m                                       𝝈ᵢ                                       \u001b[0m\n",
      "\u001b[7m\u001b[32m                               Generating Samples                               \u001b[0m\n",
      "\n",
      "\n"
     ]
    },
    {
     "name": "stderr",
     "output_type": "stream",
     "text": [
      "100%|██████████| 20480/20480 [02:56<00:00, 115.82it/s]\n"
     ]
    },
    {
     "name": "stdout",
     "output_type": "stream",
     "text": [
      "temp_script.py took 176.974 seconds\n",
      "Autocorrelation tolerance=50 fails. Setting to 0.\n",
      "\u001b[32m                         Calculating Gaussian Mixtures                          \u001b[0m\n"
     ]
    },
    {
     "name": "stderr",
     "output_type": "stream",
     "text": [
      "100%|██████████| 2/2 [00:01<00:00,  1.40it/s]"
     ]
    },
    {
     "name": "stdout",
     "output_type": "stream",
     "text": [
      "\n",
      "\n",
      "\u001b[7m\u001b[1m\u001b[33m                                 ~~ Best Fit ~~                                 \u001b[0m\n",
      "\n",
      "\n",
      "Parameter      Value (max)  Range (-+ sig)    Prior             Limits\n",
      "-----------  -------------  ----------------  ----------------  -----------\n",
      "Offset 1            -0.147  [-1.073  1.069]   ~𝓤 (-10.0, 10.0)  [-10.  10.]\n",
      "\n",
      "-----------  -------------  ----------------  ---------  ---------------\n",
      "Jitter 1            36.064  [-0.637  0.692]   ~𝓝 (5, 5)  [ 0.    75.852]\n",
      "\n",
      "\n",
      "\n",
      "\n",
      "\u001b[7m\u001b[1m\u001b[33m                                 ~~ Run Info ~~                                 \u001b[0m\n",
      "\n",
      "\n",
      "\n",
      "\n",
      "\n",
      "\n",
      "Info                                 Value\n",
      "-----------------------------------  --------------------------------------------------------------------------------\n",
      "Star Name                      :     51Peg\n",
      "The sample sizes are           :     [472064, 472064, 472064, 472064, 472064, 472064, 472064, 472064, 472064, 472064]\n",
      "Temps, Walkers, Sweeps, Steps  :     [10, 256, 2048, 1]\n",
      "Model used is                  :     ['OffsetBlock', 'JitterBlock'](2)\n",
      "N data                         :     256\n",
      "t0 epoch is                    :     2450002.665695\n",
      "Number of Dimensions           :     2\n",
      "Degrees of Freedom             :     254\n",
      "\n",
      "\n",
      "----------------------------------------\n",
      "\n",
      "\n",
      "\n",
      "Decay Timescale, Rate, Scheme   :   100, 1.5, 2\n",
      "\n",
      "Beta Detail                     :   [1.0, 0.4885, 0.2681, 0.1489, 0.07942, 0.04177, 0.01999, 0.008285, 0.002245, 0.0]\n",
      "\n",
      "Mean Logl Detail                :   [-1309.549, -1313.857, -1321.957, -1336.371, -1361.290, -1405.377, -1485.102, -1646.994, -2060.539, -3799.950]\n",
      "\n",
      "Mean Acceptance Fraction        :   [0.712, 0.713, 0.712, 0.712, 0.709, 0.702, 0.694, 0.685, 0.677, 0.658]\n",
      "\n",
      "Autocorrelation Time            :   [16.563, 17.827]\n",
      "\n",
      "Temperature Swap Rate           :   [0.332, 0.365, 0.378, 0.383, 0.382, 0.376, 0.361, 0.329, 0.239]\n",
      "\n",
      "Mean Swap Distance              :   [1.133, 1.592, 1.975, 2.244, 2.422, 2.543, 2.548, 2.434, 1.850]\n",
      "\n",
      "\n",
      "\n",
      "\n",
      "\u001b[7m\u001b[1m\u001b[33m                           ~~ Statistical Details ~~                            \u001b[0m\n",
      "\n",
      "\n",
      "\n",
      "\n",
      "Statistic                      Value\n",
      "-----------------------------  ------------------\n",
      "The evidence is             :  -1330.446 +- 0.039\n",
      "The maximum posterior is    :  -1333.444\n",
      "The maximum likelihood is   :  -1308.794\n",
      "The BIC is                  :  2628.678\n",
      "The AIC is                  :  2621.587\n",
      "The DIC is                  :  2631.849\n",
      "The HQIC is                 :  2624.439\n",
      "The Bayes Factor is         :  21.652\n",
      "The chi2 is                 :  302.672\n",
      "The reduced chi2 is         :  1.192\n",
      "The RMSE is                 :  39.917\n",
      "The RMSi is                 :  [39.917]\n",
      "The Weights are             :  [1.]\n",
      "\n",
      "\n",
      "\n",
      "\n",
      "\n",
      "\n",
      "\u001b[32m                        Plotting Posterior Scatter Plot                         \u001b[0m\n"
     ]
    },
    {
     "name": "stderr",
     "output_type": "stream",
     "text": [
      "\n",
      "100%|██████████| 2/2 [00:02<00:00,  1.40s/it]\n"
     ]
    },
    {
     "name": "stdout",
     "output_type": "stream",
     "text": [
      "\n",
      "\n",
      "\u001b[32m                            Plotting Histograms Plot                            \u001b[0m\n"
     ]
    },
    {
     "name": "stderr",
     "output_type": "stream",
     "text": [
      "100%|██████████| 20/20 [00:05<00:00,  3.49it/s]\n"
     ]
    },
    {
     "name": "stdout",
     "output_type": "stream",
     "text": [
      "\n",
      "\n",
      "\u001b[32m                           Plotting Keplerian Models                            \u001b[0m\n",
      "\n",
      "\n",
      "\u001b[32m                          Plotting E[log L](beta) Plot                          \u001b[0m\n"
     ]
    },
    {
     "name": "stderr",
     "output_type": "stream",
     "text": [
      "100%|██████████| 1/1 [00:00<00:00,  7.57it/s]\n"
     ]
    },
    {
     "name": "stdout",
     "output_type": "stream",
     "text": [
      "\n",
      "\n",
      "\u001b[32m                             Plotting Beta Density                              \u001b[0m\n"
     ]
    },
    {
     "name": "stderr",
     "output_type": "stream",
     "text": [
      "  0%|          | 0/1 [00:00<?, ?it/s]/IronCrane/reddtea/pip_packages/astroemperor/src/astroemperor/canvas.py:2112: RuntimeWarning: divide by zero encountered in log\n",
      "  y = -1/np.diff(np.log(betas))\n",
      "100%|██████████| 1/1 [00:00<00:00,  5.84it/s]\n"
     ]
    },
    {
     "name": "stdout",
     "output_type": "stream",
     "text": [
      "\n",
      "\n",
      "\u001b[32m                           Plotting Temperature Rates                           \u001b[0m\n"
     ]
    },
    {
     "name": "stderr",
     "output_type": "stream",
     "text": [
      "100%|██████████| 9/9 [00:00<00:00,  9.44it/s]\n"
     ]
    },
    {
     "name": "stdout",
     "output_type": "stream",
     "text": [
      "\n",
      "\n",
      "\n",
      "\n",
      "Time Table\n",
      "\u001b[34mTime RUN                   \u001b[1m: 00:02:59\u001b[0m\u001b[0m\n",
      "\u001b[34mTime POSTPROCESS           \u001b[1m: 00:00:02\u001b[0m\u001b[0m\n",
      "\u001b[34mTime CALCULATE GM          \u001b[1m: 00:00:01\u001b[0m\u001b[0m\n",
      "\u001b[34mTime plot_posteriors       \u001b[1m: 00:00:03\u001b[0m\u001b[0m\n",
      "\u001b[34mTime plot_histograms       \u001b[1m: 00:00:05\u001b[0m\u001b[0m\n",
      "\u001b[34mTime plot_keplerian_model  \u001b[1m: 00:00:00\u001b[0m\u001b[0m\n",
      "\u001b[34mTime plot_betas            \u001b[1m: 00:00:00\u001b[0m\u001b[0m\n",
      "\u001b[34mTime plot_beta_density     \u001b[1m: 00:00:00\u001b[0m\u001b[0m\n",
      "\u001b[34mTime plot_rates            \u001b[1m: 00:00:00\u001b[0m\u001b[0m\n",
      "\u001b[34mTime plot_trace            \u001b[1m: 00:00:00\u001b[0m\u001b[0m\n",
      "\u001b[34m\n",
      "present Evidence - past Evidence > 5\u001b[0m\n",
      "\u001b[1m\u001b[34m\n",
      " Evidence condition met!!\u001b[0m\n",
      "\u001b[34m-1330.446 - -inf > 10\u001b[0m\n",
      "\n",
      "\n",
      "\u001b[7m\u001b[1m\u001b[35m                                                                                \u001b[0m\n",
      "\u001b[7m\u001b[1m\u001b[35m                      ~~ Proceeding with the next run ! ~~                      \u001b[0m\n",
      "\u001b[7m\u001b[1m\u001b[35m                                                                                \u001b[0m\n",
      "\n",
      "\n",
      "                              \u001b[1m\u001b[32mKeplerian\u001b[0m \u001b[32mblock added\u001b[0m, \u001b[32mKeplerianBlock 1\u001b[0m\n",
      "\n",
      "\n",
      "\n",
      "Condition applied: Parameter \u001b[4mPeriod 1\u001b[0m attribute \u001b[4mlimits\u001b[0m set to \u001b[4m[3, 5]\u001b[0m\n",
      "\n",
      "Condition applied: Parameter \u001b[4mPeriod 1\u001b[0m attribute \u001b[4minit_pos\u001b[0m set to \u001b[4m[4.1, 4.3]\u001b[0m\n",
      "\n",
      "Condition applied: Parameter \u001b[4mAmplitude 1\u001b[0m attribute \u001b[4mlimits\u001b[0m set to \u001b[4m[45, 60]\u001b[0m\n",
      "\n",
      "Condition applied: Parameter \u001b[4mAmplitude 1\u001b[0m attribute \u001b[4minit_pos\u001b[0m set to \u001b[4m[50, 60]\u001b[0m\n",
      "\n",
      "Condition applied: Parameter \u001b[4mEccentricity 1\u001b[0m attribute \u001b[4mlimits\u001b[0m set to \u001b[4m[0, 0.5]\u001b[0m\n",
      "\n",
      "Condition applied: Parameter \u001b[4mEccentricity 1\u001b[0m attribute \u001b[4minit_pos\u001b[0m set to \u001b[4m[0, 0.1]\u001b[0m\n",
      "\n",
      "Condition applied: Parameter \u001b[4mJitter 1\u001b[0m attribute \u001b[4mlimits\u001b[0m set to \u001b[4m[1e-05, 39.022883437264234]\u001b[0m\n",
      "\n",
      "\n",
      "\n",
      "\n",
      "\u001b[7m\u001b[1m\u001b[33m                               ~~ Pre-Run Info ~~                               \u001b[0m\n",
      "\n",
      "\n",
      "Parameter         Prior               Limits\n",
      "----------------  ------------------  ---------------------------------\n",
      "Period 1          ~𝓤 (3, 5)           [3. 5.]\n",
      "Amplitude 1       ~𝓤 (45, 60)         [45. 60.]\n",
      "Phase 1           ~𝓤 (0.0, 6.283)     [0.    6.283]\n",
      "Eccentricity 1    ~𝓝 (0.0, 0.1)       [0.  0.5]\n",
      "Longitude 1       ~𝓤 (0.0, 6.283)     [0.    6.283]\n",
      "\n",
      "----------------  ------------------  ---------------------------------\n",
      "Offset 1          ~𝓤 (-10.0, 10.0)    [-10.  10.]\n",
      "\n",
      "----------------  ------------------  ---------------------------------\n",
      "Jitter 1          ~𝓝 (5.0, 5.0)       [ 0.    39.023]\n",
      "\n",
      "\n",
      "\n",
      "\n",
      "\u001b[33mMath for KeplerianBlock 1: \u001b[0m\n",
      "\u001b[33m                       K⋅(cos(ν(t,P,𝜙,e)+𝜔 )+e⋅cos(𝜔 ))|₁                       \u001b[0m\n",
      "\u001b[33mMath for OffsetBlock: \u001b[0m\n",
      "\u001b[33m                                      γ₀|ᵢ                                      \u001b[0m\n",
      "\u001b[33mMath for JitterBlock: \u001b[0m\n",
      "\u001b[33m                                       𝝈ᵢ                                       \u001b[0m\n",
      "\u001b[7m\u001b[32m                               Generating Samples                               \u001b[0m\n",
      "\n",
      "\n"
     ]
    },
    {
     "name": "stderr",
     "output_type": "stream",
     "text": [
      "100%|██████████| 20480/20480 [03:00<00:00, 113.21it/s]\n"
     ]
    },
    {
     "name": "stdout",
     "output_type": "stream",
     "text": [
      "temp_script.py took 181.069 seconds\n",
      "Autocorrelation tolerance=50 fails. Setting to 0.\n",
      "\u001b[32m                         Calculating Gaussian Mixtures                          \u001b[0m\n"
     ]
    },
    {
     "name": "stderr",
     "output_type": "stream",
     "text": [
      "100%|██████████| 9/9 [00:07<00:00,  1.15it/s]\n"
     ]
    },
    {
     "name": "stdout",
     "output_type": "stream",
     "text": [
      "\n",
      "\n",
      "\u001b[7m\u001b[1m\u001b[33m                                 ~~ Best Fit ~~                                 \u001b[0m\n",
      "\n",
      "\n",
      "Parameter            Value (max)  Range (-+ sig)    Prior            Limits\n",
      "-----------------  -------------  ----------------  ---------------  -------------\n",
      "Period 1                   4.231  [-0.  0.]         ~𝓤 (3, 5)        [3. 5.]\n",
      "Amplitude 1               56.06   [-0.39   0.203]   ~𝓤 (45, 60)      [45. 60.]\n",
      "Phase 1                    1.532  [-1.532  1.674]   ~𝓤 (0.0, 6.283)  [0.    6.283]\n",
      "Eccentricity 1             0.011  [-0.011  0.008]   ~𝓝 (0.0, 0.1)    [0.  0.5]\n",
      "Longitude 1                1.202  [-1.056  0.884]   ~𝓤 (0.0, 6.283)  [0.    6.283]\n",
      "Semi-Major Axis 1          0.054  [-0.001  0.001]                    [   0. 1000.]\n",
      "Minimum Mass 1             0.491  [-0.017  0.013]                    [   0. 1000.]\n",
      "\n",
      "-----------  -------------  ----------------  ----------------  -----------\n",
      "Offset 1             3.632  [-0.142  0.275]   ~𝓤 (-10.0, 10.0)  [-10.  10.]\n",
      "\n",
      "-----------  -------------  ----------------  -------------  ---------------\n",
      "Jitter 1             2.967  [-0.119  0.553]   ~𝓝 (5.0, 5.0)  [ 0.    39.023]\n",
      "\n",
      "\n",
      "\n",
      "\n",
      "\u001b[7m\u001b[1m\u001b[33m                                 ~~ Run Info ~~                                 \u001b[0m\n",
      "\n",
      "\n",
      "\n",
      "\n",
      "\n",
      "\n",
      "Info                                 Value\n",
      "-----------------------------------  --------------------------------------------------------------------------------\n",
      "Star Name                      :     51Peg\n",
      "The sample sizes are           :     [472064, 472064, 472064, 472064, 472064, 472064, 472064, 472064, 472064, 472064]\n",
      "Temps, Walkers, Sweeps, Steps  :     [10, 256, 2048, 1]\n",
      "Model used is                  :     ['KeplerianBlock 1', 'OffsetBlock', 'JitterBlock'](7)\n",
      "N data                         :     256\n",
      "t0 epoch is                    :     2450002.665695\n",
      "Number of Dimensions           :     7\n",
      "Degrees of Freedom             :     249\n",
      "\n",
      "\n",
      "----------------------------------------\n",
      "\n",
      "\n",
      "\n",
      "Decay Timescale, Rate, Scheme   :   100, 1.5, 2\n",
      "\n",
      "Beta Detail                     :   [1.0, 0.4586, 0.2126, 0.09711, 0.04353, 0.01666, 0.006704, 0.003351, 0.001115, 0.0]\n",
      "\n",
      "Mean Logl Detail                :   [-873.146, -880.261, -890.347, -907.188, -934.753, -984.313, -1147.713, -1505.192, -2208.776, -6388.719]\n",
      "\n",
      "Mean Acceptance Fraction        :   [0.229, 0.211, 0.212, 0.213, 0.208, 0.200, 0.170, 0.173, 0.225, 0.249]\n",
      "\n",
      "Autocorrelation Time            :   [60.537, 63.149, 115.550, 71.992, 122.333, 63.398, 69.159]\n",
      "\n",
      "Temperature Swap Rate           :   [0.259, 0.413, 0.476, 0.489, 0.460, 0.367, 0.303, 0.243, 0.115]\n",
      "\n",
      "Mean Swap Distance              :   [0.945, 1.805, 2.383, 2.869, 3.287, 3.190, 3.198, 2.703, 1.248]\n",
      "\n",
      "\n",
      "\n",
      "\n",
      "\u001b[7m\u001b[1m\u001b[33m                           ~~ Statistical Details ~~                            \u001b[0m\n",
      "\n",
      "\n",
      "\n",
      "\n",
      "Statistic                      Value\n",
      "-----------------------------  ------------------\n",
      "The evidence is             :  -1006.789 +- 1.533\n",
      "The maximum posterior is    :  -879.991\n",
      "The maximum likelihood is   :  -869.552\n",
      "The BIC is                  :  1777.919\n",
      "The AIC is                  :  1753.103\n",
      "The DIC is                  :  33597.597\n",
      "The HQIC is                 :  1763.084\n",
      "The Bayes Factor is         :  137.238\n",
      "The chi2 is                 :  268.585\n",
      "The reduced chi2 is         :  1.079\n",
      "The RMSE is                 :  7.628\n",
      "The RMSi is                 :  [7.628]\n",
      "The Weights are             :  [1.]\n",
      "\n",
      "\n",
      "\n",
      "\n",
      "\n",
      "\n",
      "\u001b[32m                        Plotting Posterior Scatter Plot                         \u001b[0m\n"
     ]
    },
    {
     "name": "stderr",
     "output_type": "stream",
     "text": [
      "100%|██████████| 3/3 [00:11<00:00,  3.70s/it]\n"
     ]
    },
    {
     "name": "stdout",
     "output_type": "stream",
     "text": [
      "\n",
      "\n",
      "\u001b[32m                            Plotting Histograms Plot                            \u001b[0m\n"
     ]
    },
    {
     "name": "stderr",
     "output_type": "stream",
     "text": [
      "  0%|          | 0/30 [00:00<?, ?it/s]"
     ]
    },
    {
     "name": "stdout",
     "output_type": "stream",
     "text": [
      "Failed to plot the Eccentricity 1 histogram\n"
     ]
    },
    {
     "name": "stderr",
     "output_type": "stream",
     "text": [
      "100%|██████████| 30/30 [00:19<00:00,  1.54it/s]\n"
     ]
    },
    {
     "name": "stdout",
     "output_type": "stream",
     "text": [
      "\n",
      "\n",
      "\u001b[32m                           Plotting Keplerian Models                            \u001b[0m\n",
      "\n",
      "\n",
      "\u001b[32m                          Plotting E[log L](beta) Plot                          \u001b[0m\n"
     ]
    },
    {
     "name": "stderr",
     "output_type": "stream",
     "text": [
      "100%|██████████| 1/1 [00:00<00:00,  7.31it/s]\n"
     ]
    },
    {
     "name": "stdout",
     "output_type": "stream",
     "text": [
      "\n",
      "\n",
      "\u001b[32m                             Plotting Beta Density                              \u001b[0m\n"
     ]
    },
    {
     "name": "stderr",
     "output_type": "stream",
     "text": [
      "  0%|          | 0/1 [00:00<?, ?it/s]/IronCrane/reddtea/pip_packages/astroemperor/src/astroemperor/canvas.py:2112: RuntimeWarning: divide by zero encountered in log\n",
      "  y = -1/np.diff(np.log(betas))\n",
      "100%|██████████| 1/1 [00:00<00:00,  4.84it/s]\n"
     ]
    },
    {
     "name": "stdout",
     "output_type": "stream",
     "text": [
      "\n",
      "\n",
      "\u001b[32m                           Plotting Temperature Rates                           \u001b[0m\n"
     ]
    },
    {
     "name": "stderr",
     "output_type": "stream",
     "text": [
      "100%|██████████| 9/9 [00:00<00:00,  9.94it/s]"
     ]
    },
    {
     "name": "stdout",
     "output_type": "stream",
     "text": [
      "\n",
      "\n",
      "\n",
      "\n",
      "Time Table\n",
      "\u001b[34mTime RUN                   \u001b[1m: 00:03:03\u001b[0m\u001b[0m\n",
      "\u001b[34mTime POSTPROCESS           \u001b[1m: 00:00:11\u001b[0m\u001b[0m\n",
      "\u001b[34mTime CALCULATE GM          \u001b[1m: 00:00:07\u001b[0m\u001b[0m\n",
      "\u001b[34mTime plot_posteriors       \u001b[1m: 00:00:11\u001b[0m\u001b[0m\n",
      "\u001b[34mTime plot_histograms       \u001b[1m: 00:00:19\u001b[0m\u001b[0m\n",
      "\u001b[34mTime plot_keplerian_model  \u001b[1m: 00:00:00\u001b[0m\u001b[0m\n",
      "\u001b[34mTime plot_betas            \u001b[1m: 00:00:00\u001b[0m\u001b[0m\n",
      "\u001b[34mTime plot_beta_density     \u001b[1m: 00:00:00\u001b[0m\u001b[0m\n",
      "\u001b[34mTime plot_rates            \u001b[1m: 00:00:00\u001b[0m\u001b[0m\n",
      "\u001b[34mTime plot_trace            \u001b[1m: 00:00:00\u001b[0m\u001b[0m\n",
      "\u001b[34m\n",
      "present Evidence - past Evidence > 5\u001b[0m\n",
      "\u001b[1m\u001b[34m\n",
      " Evidence condition met!!\u001b[0m\n",
      "\u001b[34m-1006.789 - -1330.446 > 10\u001b[0m\n",
      "\n",
      "\n",
      "\u001b[7m\u001b[1m\u001b[35m                                                                                \u001b[0m\n",
      "\u001b[7m\u001b[1m\u001b[35m                              ~~ End of the Run ~~                              \u001b[0m\n",
      "\u001b[7m\u001b[1m\u001b[35m                                                                                \u001b[0m\n",
      "\n",
      "\n"
     ]
    },
    {
     "name": "stderr",
     "output_type": "stream",
     "text": [
      "\n"
     ]
    }
   ],
   "source": [
    "sim.autorun(0, 1)"
   ]
  },
  {
   "cell_type": "markdown",
   "metadata": {},
   "source": []
  }
 ],
 "metadata": {
  "kernelspec": {
   "display_name": "base",
   "language": "python",
   "name": "python3"
  },
  "language_info": {
   "codemirror_mode": {
    "name": "ipython",
    "version": 3
   },
   "file_extension": ".py",
   "mimetype": "text/x-python",
   "name": "python",
   "nbconvert_exporter": "python",
   "pygments_lexer": "ipython3",
   "version": "3.12.4"
  }
 },
 "nbformat": 4,
 "nbformat_minor": 2
}
