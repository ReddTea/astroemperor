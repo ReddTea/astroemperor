{
 "cells": [
  {
   "cell_type": "code",
   "execution_count": 1,
   "metadata": {},
   "outputs": [
    {
     "name": "stdout",
     "output_type": "stream",
     "text": [
      "I couldnt grab the terminal size. Trying with pandas...\n",
      "Terminal size with pandas successful!\n"
     ]
    }
   ],
   "source": [
    "import numpy as np\n",
    "import astroemperor as emp\n",
    "\n",
    "np.random.seed(1234)"
   ]
  },
  {
   "cell_type": "markdown",
   "metadata": {},
   "source": [
    "## engine setup"
   ]
  },
  {
   "cell_type": "code",
   "execution_count": null,
   "metadata": {},
   "outputs": [
    {
     "name": "stdout",
     "output_type": "stream",
     "text": [
      "\u001b[7m\u001b[1m\u001b[32m                                                                                \u001b[0m\n",
      "\u001b[7m\u001b[1m\u001b[32m                   ~~ Simulation Successfully Initialized ~~                    \u001b[0m\n",
      "\u001b[7m\u001b[1m\u001b[32m                                                                                \u001b[0m\n",
      "\n",
      "\n",
      "\u001b[34m                         \n",
      "Reading data from 51peg.vels                          \u001b[0m\n",
      "\n",
      "\n",
      "\n",
      "\n",
      "\n",
      "\n"
     ]
    }
   ],
   "source": [
    "sim = emp.Simulation()\n",
    "sim.load_data('51Peg')  # folder read from /datafiles/\n",
    "\n",
    "sim.set_engine('reddemcee')\n",
    "sim.engine_config['setup'] = [8, 128, 512, 1]  # ntemps, nwalkers, nsweeps, nsteps\n",
    "sim.cores__ = 12  # threads to use"
   ]
  },
  {
   "cell_type": "markdown",
   "metadata": {},
   "source": [
    "## model setup"
   ]
  },
  {
   "cell_type": "code",
   "execution_count": 3,
   "metadata": {},
   "outputs": [],
   "source": [
    "sim.instrument_names = ['LICK']\n",
    "sim.starmass = 1.12\n",
    "sim.keplerian_parameterisation = 1\n",
    "\n",
    "\n",
    "sim.add_condition(['Period 1', 'limits', [3, 5]])\n",
    "sim.add_condition(['Amplitude 1', 'limits', [45, 60]])\n",
    "\n",
    "sim.add_condition(['Offset 1', 'limits', [-10., 10.]])\n",
    "\n",
    "sim.add_condition(['Period 1', 'init_pos', [4.1, 4.3]])\n",
    "sim.add_condition(['Amplitude 1', 'init_pos', [50, 60]])"
   ]
  },
  {
   "cell_type": "markdown",
   "metadata": {},
   "source": [
    "## Plot options"
   ]
  },
  {
   "cell_type": "code",
   "execution_count": 4,
   "metadata": {},
   "outputs": [],
   "source": [
    "sim.plot_posteriors['temps'] = [0, 2, 8]\n",
    "sim.plot_trace['plot'] = False"
   ]
  },
  {
   "cell_type": "code",
   "execution_count": 5,
   "metadata": {},
   "outputs": [
    {
     "name": "stdout",
     "output_type": "stream",
     "text": [
      "                              \u001b[1m\u001b[32mOffset\u001b[0m \u001b[32mblock added\u001b[0m, \u001b[32mOffsetBlock\u001b[0m\n",
      "\n",
      "\n",
      "                              \u001b[1m\u001b[32mJitter\u001b[0m \u001b[32mblock added\u001b[0m, \u001b[32mJitterBlock\u001b[0m\n",
      "\n",
      "\n",
      "\n",
      "Condition applied: Parameter \u001b[4mOffset 1\u001b[0m attribute \u001b[4mlimits\u001b[0m set to \u001b[4m[-10.0, 10.0]\u001b[0m\n",
      "\n",
      "\n",
      "\u001b[7m\u001b[34m                                ~~ Setup Info ~~                                \u001b[0m\n",
      "\n",
      "\n",
      "\u001b[34mCurrent Engine is            \u001b[1mreddemcee 0.9\u001b[0m\u001b[0m\n",
      "\u001b[34mNumber of cores is           \u001b[1m24\u001b[0m\u001b[0m\n",
      "\u001b[34mSave location is             \u001b[1mdatalogs/51Peg/run_2/k0\u001b[0m\u001b[0m\n",
      "\u001b[34mDynamical Criteria is        \u001b[1mNone\u001b[0m\u001b[0m\n",
      "\u001b[34mPosterior fit method is      \u001b[1mGaussian Mixtures\u001b[0m\u001b[0m\n",
      "\u001b[34mLimits constrain method is   \u001b[1msigma\u001b[0m\u001b[0m\n",
      "\u001b[34mModel Selection method is    \u001b[1mBIC\u001b[0m\u001b[0m\n",
      "\n",
      "\n",
      "\u001b[7m\u001b[34m                           ~~ Automatically Saving ~~                           \u001b[0m\n",
      "\n",
      "\n",
      "\u001b[34mLogger       : \u001b[7m\u001b[32m✔\u001b[0m\u001b[0m\n",
      "\u001b[34mSamples      : \u001b[7m\u001b[31m✘\u001b[0m\u001b[0m\n",
      "\u001b[34mPosteriors   : \u001b[7m\u001b[32m✔\u001b[0m\u001b[0m\n",
      "\u001b[34mLikelihoods  : \u001b[7m\u001b[32m✔\u001b[0m\u001b[0m\n",
      "\u001b[34mPlots: Posteriors           : \u001b[7m\u001b[32m✔\u001b[0m\u001b[0m\n",
      "\u001b[34mPlots: Keplerian Model      : \u001b[7m\u001b[32m✔\u001b[0m\u001b[0m\n",
      "\u001b[34mPlots: Gaussian Mixture     : \u001b[7m\u001b[32m✔\u001b[0m\u001b[0m\n",
      "\u001b[34mPlots: Parameter Histograms : \u001b[7m\u001b[32m✔\u001b[0m\u001b[0m\n",
      "\u001b[34mPlots: Corner               : \u001b[7m\u001b[32m✔\u001b[0m\u001b[0m\n",
      "\n",
      "\n",
      "\u001b[7m\u001b[1m\u001b[33m                               ~~ Pre-Run Info ~~                               \u001b[0m\n",
      "\n",
      "\n",
      "Parameter    Prior               Limits\n",
      "-----------  ------------------  ---------------------------------\n",
      "Offset 1     ~𝓤 (-10.0, 10.0)    [-10.  10.]\n",
      "\n",
      "----------  ------------------  ---------------------------------\n",
      "Jitter 1    ~𝓝 (5, 5)           [ 0.    75.852]\n",
      "\n",
      "\n",
      "\n",
      "\n",
      "\u001b[33mMath for OffsetBlock: \u001b[0m\n",
      "\u001b[33m                                      γ₀|ᵢ                                      \u001b[0m\n",
      "\u001b[33mMath for JitterBlock: \u001b[0m\n",
      "\u001b[33m                                       𝝈ᵢ                                       \u001b[0m\n",
      "\u001b[7m\u001b[32m                               Generating Samples                               \u001b[0m\n",
      "\n",
      "\n"
     ]
    },
    {
     "name": "stderr",
     "output_type": "stream",
     "text": [
      "100%|██████████| 36000/36000 [06:15<00:00, 95.80it/s] \n"
     ]
    },
    {
     "name": "stdout",
     "output_type": "stream",
     "text": [
      "temp_script.py took 376.068 seconds\n",
      "Autocorrelation tolerance=50 fails. Setting to 0.\n",
      "\u001b[32m                         Calculating Gaussian Mixtures                          \u001b[0m\n"
     ]
    },
    {
     "name": "stderr",
     "output_type": "stream",
     "text": [
      "100%|██████████| 2/2 [00:04<00:00,  2.43s/it]"
     ]
    },
    {
     "name": "stdout",
     "output_type": "stream",
     "text": [
      "\n",
      "\n",
      "\u001b[7m\u001b[1m\u001b[33m                                 ~~ Best Fit ~~                                 \u001b[0m\n",
      "\n",
      "\n",
      "Parameter      Value (max)  Range (-+ sig)    Prior             Limits\n",
      "-----------  -------------  ----------------  ----------------  -----------\n",
      "Offset 1            -0.153  [-1.059  1.094]   ~𝓤 (-10.0, 10.0)  [-10.  10.]\n",
      "\n",
      "-----------  -------------  ----------------  ---------  ---------------\n",
      "Jitter 1            36.063  [-0.539  0.789]   ~𝓝 (5, 5)  [ 0.    75.852]\n",
      "\n",
      "\n",
      "\n",
      "\n",
      "\u001b[7m\u001b[1m\u001b[33m                                 ~~ Run Info ~~                                 \u001b[0m\n",
      "\n",
      "\n",
      "\n",
      "\n",
      "\n",
      "\n",
      "Info                                 Value\n",
      "-----------------------------------  ------------------------------------------------------------------------------------------------------------\n",
      "Star Name                      :     51Peg\n",
      "The sample sizes are           :     [1500000, 1500000, 1500000, 1500000, 1500000, 1500000, 1500000, 1500000, 1500000, 1500000, 1500000, 1500000]\n",
      "Temps, Walkers, Sweeps, Steps  :     [12, 500, 3000, 1]\n",
      "Model used is                  :     ['OffsetBlock', 'JitterBlock'](2)\n",
      "N data                         :     256\n",
      "t0 epoch is                    :     2450002.665695\n",
      "Number of Dimensions           :     2\n",
      "Degrees of Freedom             :     254\n",
      "\n",
      "\n",
      "----------------------------------------\n",
      "\n",
      "\n",
      "\n",
      "Decay Timescale, Rate, Scheme   :   1000, 1, 0\n",
      "\n",
      "Beta Detail                     :   [1.0, 0.5573, 0.3317, 0.1952, 0.1176, 0.06762, 0.03774, 0.01973, 0.009203, 0.003676, 0.001009, 5.057e-10]\n",
      "\n",
      "Mean Logl Detail                :   [-1309.568, -1312.905, -1319.316, -1331.195, -1351.896, -1385.713, -1437.399, -1518.974, -1656.387, -1913.439, -2499.586, -3826.474]\n",
      "\n",
      "Mean Acceptance Fraction        :   [0.714, 0.712, 0.712, 0.712, 0.711, 0.709, 0.703, 0.695, 0.687, 0.680, 0.676, 0.657]\n",
      "\n",
      "Autocorrelation Time            :   [15.152, 16.966]\n",
      "\n",
      "Temperature Swap Rate           :   [0.430, 0.431, 0.432, 0.434, 0.436, 0.439, 0.442, 0.445, 0.449, 0.454, 0.458]\n",
      "\n",
      "Mean Swap Distance              :   [1.465, 1.820, 2.154, 2.452, 2.698, 2.901, 3.098, 3.259, 3.400, 3.563, 3.770]\n",
      "\n",
      "\n",
      "\n",
      "\n",
      "\u001b[7m\u001b[1m\u001b[33m                           ~~ Statistical Details ~~                            \u001b[0m\n",
      "\n",
      "\n",
      "\n",
      "\n",
      "Statistic                      Value\n",
      "-----------------------------  ------------------\n",
      "The evidence is             :  -1333.713 +- 1.558\n",
      "The maximum posterior is    :  -1333.617\n",
      "The maximum likelihood is   :  -1308.795\n",
      "The BIC is                  :  2628.681\n",
      "The AIC is                  :  2621.591\n",
      "The DIC is                  :  2716.090\n",
      "The HQIC is                 :  2624.442\n",
      "The Bayes Factor is         :  24.918\n",
      "The chi2 is                 :  302.693\n",
      "The reduced chi2 is         :  1.192\n",
      "The RMSE is                 :  39.917\n",
      "The RMSi is                 :  [39.917]\n",
      "The Weights are             :  [1.]\n",
      "\n",
      "\n",
      "\n",
      "\n",
      "\n",
      "\n",
      "\u001b[32m                        Plotting Posterior Scatter Plot                         \u001b[0m\n"
     ]
    },
    {
     "name": "stderr",
     "output_type": "stream",
     "text": [
      "\n",
      "100%|██████████| 4/4 [00:06<00:00,  1.52s/it]\n",
      "100%|██████████| 2/2 [00:05<00:00,  2.91s/it]\n"
     ]
    },
    {
     "name": "stdout",
     "output_type": "stream",
     "text": [
      "\n",
      "\n",
      "\u001b[32m                            Plotting Histograms Plot                            \u001b[0m\n"
     ]
    },
    {
     "name": "stderr",
     "output_type": "stream",
     "text": [
      "100%|██████████| 24/24 [00:09<00:00,  2.47it/s]\n"
     ]
    },
    {
     "name": "stdout",
     "output_type": "stream",
     "text": [
      "\n",
      "\n",
      "\u001b[32m                           Plotting Keplerian Models                            \u001b[0m\n",
      "\n",
      "\n",
      "\u001b[32m                          Plotting E[log L](beta) Plot                          \u001b[0m\n"
     ]
    },
    {
     "name": "stderr",
     "output_type": "stream",
     "text": [
      "100%|██████████| 1/1 [00:00<00:00,  7.47it/s]\n"
     ]
    },
    {
     "name": "stdout",
     "output_type": "stream",
     "text": [
      "\n",
      "\n",
      "\u001b[32m                             Plotting Beta Density                              \u001b[0m\n"
     ]
    },
    {
     "name": "stderr",
     "output_type": "stream",
     "text": [
      "100%|██████████| 1/1 [00:00<00:00,  5.20it/s]\n"
     ]
    },
    {
     "name": "stdout",
     "output_type": "stream",
     "text": [
      "\n",
      "\n",
      "\u001b[32m                           Plotting Temperature Rates                           \u001b[0m\n"
     ]
    },
    {
     "name": "stderr",
     "output_type": "stream",
     "text": [
      "100%|██████████| 11/11 [00:01<00:00, 10.84it/s]\n"
     ]
    },
    {
     "name": "stdout",
     "output_type": "stream",
     "text": [
      "\n",
      "\n",
      "\u001b[32m                           Plotting Gaussian Mixtures                           \u001b[0m\n"
     ]
    },
    {
     "name": "stderr",
     "output_type": "stream",
     "text": [
      "100%|██████████| 2/2 [00:00<00:00,  4.68it/s]\n"
     ]
    },
    {
     "name": "stdout",
     "output_type": "stream",
     "text": [
      "\n",
      "\n",
      "\n",
      "\n",
      "Time Table\n",
      "\u001b[34mTime RUN                   \u001b[1m: 00:06:19\u001b[0m\u001b[0m\n",
      "\u001b[34mTime POSTPROCESS           \u001b[1m: 00:00:16\u001b[0m\u001b[0m\n",
      "\u001b[34mTime CALCULATE GM          \u001b[1m: 00:00:04\u001b[0m\u001b[0m\n",
      "\u001b[34mTime plot_posteriors       \u001b[1m: 00:00:12\u001b[0m\u001b[0m\n",
      "\u001b[34mTime plot_histograms       \u001b[1m: 00:00:09\u001b[0m\u001b[0m\n",
      "\u001b[34mTime plot_keplerian_model  \u001b[1m: 00:00:00\u001b[0m\u001b[0m\n",
      "\u001b[34mTime plot_betas            \u001b[1m: 00:00:00\u001b[0m\u001b[0m\n",
      "\u001b[34mTime plot_beta_density     \u001b[1m: 00:00:00\u001b[0m\u001b[0m\n",
      "\u001b[34mTime plot_rates            \u001b[1m: 00:00:01\u001b[0m\u001b[0m\n",
      "\u001b[34mTime plot_trace            \u001b[1m: 00:00:00\u001b[0m\u001b[0m\n",
      "\u001b[34m\n",
      "past BIC - present BIC > 5\u001b[0m\n",
      "\u001b[1m\u001b[34m\n",
      " BIC condition met!!\u001b[0m\n",
      "\u001b[34minf - 2628.681 > 5\u001b[0m\n",
      "\n",
      "\n",
      "\u001b[7m\u001b[1m\u001b[35m                                                                                \u001b[0m\n",
      "\u001b[7m\u001b[1m\u001b[35m                      ~~ Proceeding with the next run ! ~~                      \u001b[0m\n",
      "\u001b[7m\u001b[1m\u001b[35m                                                                                \u001b[0m\n",
      "\n",
      "\n",
      "                              \u001b[1m\u001b[32mKeplerian\u001b[0m \u001b[32mblock added\u001b[0m, \u001b[32mKeplerianBlock 1\u001b[0m\n",
      "\n",
      "\n",
      "\n",
      "Condition applied: Parameter \u001b[4mPeriod 1\u001b[0m attribute \u001b[4mlimits\u001b[0m set to \u001b[4m[3, 5]\u001b[0m\n",
      "\n",
      "Condition applied: Parameter \u001b[4mPeriod 1\u001b[0m attribute \u001b[4minit_pos\u001b[0m set to \u001b[4m[4.1, 4.3]\u001b[0m\n",
      "\n",
      "Condition applied: Parameter \u001b[4mAmplitude 1\u001b[0m attribute \u001b[4mlimits\u001b[0m set to \u001b[4m[45, 60]\u001b[0m\n",
      "\n",
      "Condition applied: Parameter \u001b[4mAmplitude 1\u001b[0m attribute \u001b[4minit_pos\u001b[0m set to \u001b[4m[50, 60]\u001b[0m\n",
      "\n",
      "Condition applied: Parameter \u001b[4mJitter 1\u001b[0m attribute \u001b[4mlimits\u001b[0m set to \u001b[4m[1e-05, 40.57293916203054]\u001b[0m\n",
      "\n",
      "\n",
      "\n",
      "\n",
      "\u001b[7m\u001b[1m\u001b[33m                               ~~ Pre-Run Info ~~                               \u001b[0m\n",
      "\n",
      "\n",
      "Parameter      Prior               Limits\n",
      "-------------  ------------------  ---------------------------------\n",
      "Period 1       ~𝓤 (3, 5)           [3. 5.]\n",
      "Amplitude 1    ~𝓤 (45, 60)         [45. 60.]\n",
      "Phase 1        ~𝓤 (0.0, 6.283)     [0.    6.283]\n",
      "Ecc_sin 1      ~𝓤 (-1, 1)          [-1.  1.]\n",
      "Ecc_cos 1      ~𝓤 (-1, 1)          [-1.  1.]\n",
      "\n",
      "-------------  ------------------  ---------------------------------\n",
      "Offset 1       ~𝓤 (-10.0, 10.0)    [-10.  10.]\n",
      "\n",
      "-------------  ------------------  ---------------------------------\n",
      "Jitter 1       ~𝓝 (5, 5)           [ 0.    40.573]\n",
      "\n",
      "\n",
      "\n",
      "\n",
      "\u001b[33mMath for KeplerianBlock 1: \u001b[0m\n",
      "\u001b[33m                       K⋅(cos(ν(t,P,𝜙,e)+𝜔 )+e⋅cos(𝜔 ))|₁                       \u001b[0m\n",
      "\u001b[33mMath for OffsetBlock: \u001b[0m\n",
      "\u001b[33m                                      γ₀|ᵢ                                      \u001b[0m\n",
      "\u001b[33mMath for JitterBlock: \u001b[0m\n",
      "\u001b[33m                                       𝝈ᵢ                                       \u001b[0m\n",
      "\u001b[7m\u001b[32m                               Generating Samples                               \u001b[0m\n",
      "\n",
      "\n"
     ]
    },
    {
     "name": "stderr",
     "output_type": "stream",
     "text": [
      "100%|██████████| 36000/36000 [06:14<00:00, 96.18it/s] \n"
     ]
    },
    {
     "name": "stdout",
     "output_type": "stream",
     "text": [
      "temp_script.py took 374.63 seconds\n",
      "Autocorrelation tolerance=50 fails. Setting to 0.\n",
      "\u001b[32m                         Calculating Gaussian Mixtures                          \u001b[0m\n"
     ]
    },
    {
     "name": "stderr",
     "output_type": "stream",
     "text": [
      "100%|██████████| 11/11 [00:33<00:00,  3.01s/it]"
     ]
    },
    {
     "name": "stdout",
     "output_type": "stream",
     "text": [
      "\n",
      "\n",
      "\u001b[7m\u001b[1m\u001b[33m                                 ~~ Best Fit ~~                                 \u001b[0m\n",
      "\n",
      "\n",
      "Parameter            Value (max)  Range (-+ sig)    Prior            Limits\n",
      "-----------------  -------------  ----------------  ---------------  -------------\n",
      "Period 1                   4.231  [-0.  0.]         ~𝓤 (3, 5)        [3. 5.]\n",
      "Amplitude 1               55.987  [-0.291  0.32 ]   ~𝓤 (45, 60)      [45. 60.]\n",
      "Phase 1                    1.756  [-0.121  0.759]   ~𝓤 (0.0, 6.283)  [0.    6.283]\n",
      "Ecc_sin 1                  0.094  [-0.052  0.026]   ~𝓤 (-1, 1)       [-1.  1.]\n",
      "Ecc_cos 1                  0.064  [-0.01   0.045]   ~𝓤 (-1, 1)       [-1.  1.]\n",
      "Eccentricity 1             0.013  [-0.007  0.002]                    [0. 1.]\n",
      "Longitude 1                0.977  [-0.757  0.12 ]                    [0.    6.283]\n",
      "Semi-Major Axis 1          0.053  [-0.  0.]                          [   0. 1000.]\n",
      "Minimum Mass 1             0.481  [-0.003  0.003]                    [   0. 1000.]\n",
      "\n",
      "-----------  -------------  ----------------  ----------------  -----------\n",
      "Offset 1             3.682  [-0.189  0.251]   ~𝓤 (-10.0, 10.0)  [-10.  10.]\n",
      "\n",
      "-----------  -------------  ----------------  ---------  ---------------\n",
      "Jitter 1             3.061  [-0.227  0.487]   ~𝓝 (5, 5)  [ 0.    40.573]\n",
      "\n",
      "\n",
      "\n",
      "\n",
      "\u001b[7m\u001b[1m\u001b[33m                                 ~~ Run Info ~~                                 \u001b[0m\n",
      "\n",
      "\n",
      "\n",
      "\n",
      "\n",
      "\n",
      "Info                                 Value\n",
      "-----------------------------------  ------------------------------------------------------------------------------------------------------------\n",
      "Star Name                      :     51Peg\n",
      "The sample sizes are           :     [1500000, 1500000, 1500000, 1500000, 1500000, 1500000, 1500000, 1500000, 1500000, 1500000, 1500000, 1500000]\n",
      "Temps, Walkers, Sweeps, Steps  :     [12, 500, 3000, 1]\n",
      "Model used is                  :     ['KeplerianBlock 1', 'OffsetBlock', 'JitterBlock'](7)\n",
      "N data                         :     256\n",
      "t0 epoch is                    :     2450002.665695\n",
      "Number of Dimensions           :     7\n",
      "Degrees of Freedom             :     249\n",
      "\n",
      "\n",
      "----------------------------------------\n",
      "\n",
      "\n",
      "\n",
      "Decay Timescale, Rate, Scheme   :   1000, 1, 0\n",
      "\n",
      "Beta Detail                     :   [1.0, 0.4913, 0.2435, 0.1253, 0.06376, 0.03226, 0.01682, 0.01111, 0.006404, 0.002565, 0.0007305, 5.057e-10]\n",
      "\n",
      "Mean Logl Detail                :   [-879.715, -886.431, -896.533, -913.397, -942.804, -993.519, -1109.990, -1340.607, -1631.242, -2054.459, -3010.929, -5608.855]\n",
      "\n",
      "Mean Acceptance Fraction        :   [0.186, 0.181, 0.182, 0.188, 0.200, 0.217, 0.201, 0.155, 0.169, 0.195, 0.222, 0.234]\n",
      "\n",
      "Autocorrelation Time            :   [9.717, 73.803, 193.862, 165.227, 207.985, 60.579, 114.651]\n",
      "\n",
      "Temperature Swap Rate           :   [0.383, 0.382, 0.382, 0.382, 0.381, 0.381, 0.380, 0.380, 0.380, 0.380, 0.380]\n",
      "\n",
      "Mean Swap Distance              :   [0.814, 1.080, 1.419, 1.862, 2.498, 3.236, 4.043, 4.140, 4.019, 4.007, 4.072]\n",
      "\n",
      "\n",
      "\n",
      "\n",
      "\u001b[7m\u001b[1m\u001b[33m                           ~~ Statistical Details ~~                            \u001b[0m\n",
      "\n",
      "\n",
      "\n",
      "\n",
      "Statistic                      Value\n",
      "-----------------------------  -----------------\n",
      "The evidence is             :  -908.390 +- 1.425\n",
      "The maximum posterior is    :  -881.705\n",
      "The maximum likelihood is   :  -869.480\n",
      "The BIC is                  :  1777.777\n",
      "The AIC is                  :  1752.961\n",
      "The DIC is                  :  9697.746\n",
      "The HQIC is                 :  1762.942\n",
      "The Bayes Factor is         :  38.910\n",
      "The chi2 is                 :  265.312\n",
      "The reduced chi2 is         :  1.066\n",
      "The RMSE is                 :  7.624\n",
      "The RMSi is                 :  [7.624]\n",
      "The Weights are             :  [1.]\n",
      "\n",
      "\n",
      "\n",
      "\n",
      "\n",
      "\n",
      "\u001b[32m                        Plotting Posterior Scatter Plot                         \u001b[0m\n"
     ]
    },
    {
     "name": "stderr",
     "output_type": "stream",
     "text": [
      "\n",
      "100%|██████████| 4/4 [00:24<00:00,  6.23s/it]\n",
      "100%|██████████| 4/4 [00:25<00:00,  6.32s/it]\n",
      "100%|██████████| 1/1 [00:05<00:00,  5.50s/it]\n"
     ]
    },
    {
     "name": "stdout",
     "output_type": "stream",
     "text": [
      "\n",
      "\n",
      "\u001b[32m                            Plotting Histograms Plot                            \u001b[0m\n"
     ]
    },
    {
     "name": "stderr",
     "output_type": "stream",
     "text": [
      "100%|██████████| 36/36 [00:37<00:00,  1.03s/it]\n"
     ]
    },
    {
     "name": "stdout",
     "output_type": "stream",
     "text": [
      "\n",
      "\n",
      "\u001b[32m                           Plotting Keplerian Models                            \u001b[0m\n",
      "\n",
      "\n",
      "\u001b[32m                          Plotting E[log L](beta) Plot                          \u001b[0m\n"
     ]
    },
    {
     "name": "stderr",
     "output_type": "stream",
     "text": [
      "100%|██████████| 1/1 [00:00<00:00,  7.89it/s]\n"
     ]
    },
    {
     "name": "stdout",
     "output_type": "stream",
     "text": [
      "\n",
      "\n",
      "\u001b[32m                             Plotting Beta Density                              \u001b[0m\n"
     ]
    },
    {
     "name": "stderr",
     "output_type": "stream",
     "text": [
      "100%|██████████| 1/1 [00:00<00:00,  5.56it/s]\n"
     ]
    },
    {
     "name": "stdout",
     "output_type": "stream",
     "text": [
      "\n",
      "\n",
      "\u001b[32m                           Plotting Temperature Rates                           \u001b[0m\n"
     ]
    },
    {
     "name": "stderr",
     "output_type": "stream",
     "text": [
      "100%|██████████| 11/11 [00:01<00:00, 10.64it/s]\n"
     ]
    },
    {
     "name": "stdout",
     "output_type": "stream",
     "text": [
      "\n",
      "\n",
      "\u001b[32m                           Plotting Gaussian Mixtures                           \u001b[0m\n"
     ]
    },
    {
     "name": "stderr",
     "output_type": "stream",
     "text": [
      " 64%|██████▎   | 7/11 [00:02<00:01,  2.89it/s]"
     ]
    },
    {
     "name": "stdout",
     "output_type": "stream",
     "text": [
      "\n",
      "\n",
      "\n",
      "\n",
      "Time Table\n",
      "\u001b[34mTime RUN                   \u001b[1m: 00:06:18\u001b[0m\u001b[0m\n",
      "\u001b[34mTime POSTPROCESS           \u001b[1m: 00:00:54\u001b[0m\u001b[0m\n",
      "\u001b[34mTime CALCULATE GM          \u001b[1m: 00:00:33\u001b[0m\u001b[0m\n",
      "\u001b[34mTime plot_posteriors       \u001b[1m: 00:00:56\u001b[0m\u001b[0m\n",
      "\u001b[34mTime plot_histograms       \u001b[1m: 00:00:37\u001b[0m\u001b[0m\n",
      "\u001b[34mTime plot_keplerian_model  \u001b[1m: 00:00:00\u001b[0m\u001b[0m\n",
      "\u001b[34mTime plot_betas            \u001b[1m: 00:00:00\u001b[0m\u001b[0m\n",
      "\u001b[34mTime plot_beta_density     \u001b[1m: 00:00:00\u001b[0m\u001b[0m\n",
      "\u001b[34mTime plot_rates            \u001b[1m: 00:00:01\u001b[0m\u001b[0m\n",
      "\u001b[34mTime plot_trace            \u001b[1m: 00:00:00\u001b[0m\u001b[0m\n",
      "\u001b[34m\n",
      "past BIC - present BIC > 5\u001b[0m\n",
      "\u001b[1m\u001b[34m\n",
      " BIC condition met!!\u001b[0m\n",
      "\u001b[34m2628.681 - 1777.777 > 5\u001b[0m\n",
      "\n",
      "\n",
      "\u001b[7m\u001b[1m\u001b[35m                                                                                \u001b[0m\n",
      "\u001b[7m\u001b[1m\u001b[35m                              ~~ End of the Run ~~                              \u001b[0m\n",
      "\u001b[7m\u001b[1m\u001b[35m                                                                                \u001b[0m\n",
      "\n",
      "\n"
     ]
    },
    {
     "name": "stderr",
     "output_type": "stream",
     "text": [
      "\n"
     ]
    }
   ],
   "source": [
    "sim.autorun(0, 1)"
   ]
  },
  {
   "cell_type": "code",
   "execution_count": null,
   "metadata": {},
   "outputs": [],
   "source": []
  },
  {
   "cell_type": "code",
   "execution_count": 6,
   "metadata": {},
   "outputs": [
    {
     "name": "stdout",
     "output_type": "stream",
     "text": [
      "\u001b[7m\u001b[1m\u001b[32m                                                                                \u001b[0m\n",
      "\u001b[7m\u001b[1m\u001b[32m                   ~~ Simulation Successfully Initialized ~~                    \u001b[0m\n",
      "\u001b[7m\u001b[1m\u001b[32m                                                                                \u001b[0m\n",
      "\n",
      "\n",
      "\u001b[34m                         \n",
      "Reading data from 51peg.vels                          \u001b[0m\n",
      "\n",
      "\n",
      "\n",
      "\n",
      "\n",
      "\n"
     ]
    }
   ],
   "source": [
    "import multiprocessing\n",
    "sim = emp.Simulation()\n",
    "sim.load_data('51Peg')  # folder read from /datafiles/\n",
    "sim.use_c = True  # (OPTIONAL) uses the fast-kepler c library, requires "
   ]
  },
  {
   "cell_type": "code",
   "execution_count": 7,
   "metadata": {},
   "outputs": [],
   "source": [
    "sim.set_engine('reddemcee')\n",
    "sim.engine_config['setup'] = [12, 500, 3000, 1]\n",
    "\n",
    "sim.engine_config['adapt_tau'] = 500\n",
    "sim.engine_config['adapt_nu'] = 1\n",
    "sim.engine_config['adapt_mode'] = 0\n",
    "\n",
    "sim.engine_config['betas'] = list(np.linspace(1, 0, 12))  # 12 temperatures\n"
   ]
  },
  {
   "cell_type": "code",
   "execution_count": null,
   "metadata": {},
   "outputs": [],
   "source": [
    "sim.run_config['burnin'] = 0.5  # half the steps\n",
    "\n",
    "sim.switch_constrain = True\n",
    "sim.constrain_method = 'range'  # based on the HDI\n",
    "sim.constrain_sigma = 3  # equivalent to the 99 HDI range\n",
    "\n",
    "sim.set_comparison_criteria('Evidence')\n",
    "sim.set_tolerance(10)"
   ]
  },
  {
   "cell_type": "code",
   "execution_count": 9,
   "metadata": {},
   "outputs": [],
   "source": [
    "sim.instrument_names = ['LICK']\n",
    "sim.starmass = 1.12\n",
    "sim.keplerian_parameterisation = 1\n",
    "\n",
    "sim.sinusoid = False  # a simple sinusoid, turned off\n",
    "sim.magnetic_cycle = False  # a magnetic cycle model, turned off\n",
    "sim.acceleration = 1  # adds a linear acceleration\n",
    "\n",
    "\n",
    "sim.add_condition(['Period 1', 'limits', [3, 5]])\n",
    "sim.add_condition(['Amplitude 1', 'limits', [45, 60]])\n",
    "\n",
    "sim.add_condition(['Offset 1', 'limits', [-10., 10.]])\n",
    "\n",
    "sim.add_condition(['Period 1', 'init_pos', [4.1, 4.3]])\n",
    "sim.add_condition(['Amplitude 1', 'init_pos', [50, 60]])"
   ]
  },
  {
   "cell_type": "code",
   "execution_count": 10,
   "metadata": {},
   "outputs": [],
   "source": [
    "sim.plot_posteriors['temps'] = [0]  # only cold chain\n",
    "sim.plot_posteriors['modes'] = [0]  # only scatter plot\n",
    "\n",
    "sim.plot_histograms['temps'] = [0]  # only cold chain\n",
    "sim.plot_rates['window'] = 10  # takes averages in window, for visual simplicity\n",
    "\n",
    "sim.plot_trace['plot'] = True  # optional, requires arviz\n",
    "sim.plot_trace['modes'] = [0]  # only the corner plot"
   ]
  },
  {
   "cell_type": "code",
   "execution_count": 11,
   "metadata": {},
   "outputs": [
    {
     "name": "stdout",
     "output_type": "stream",
     "text": [
      "                              \u001b[1m\u001b[32mAcceleration\u001b[0m \u001b[32mblock added\u001b[0m, \u001b[32mAccelerationBlock o1\u001b[0m\n",
      "\n",
      "\n",
      "                              \u001b[1m\u001b[32mOffset\u001b[0m \u001b[32mblock added\u001b[0m, \u001b[32mOffsetBlock\u001b[0m\n",
      "\n",
      "\n",
      "                              \u001b[1m\u001b[32mJitter\u001b[0m \u001b[32mblock added\u001b[0m, \u001b[32mJitterBlock\u001b[0m\n",
      "\n",
      "\n",
      "\n",
      "Condition applied: Parameter \u001b[4mOffset 1\u001b[0m attribute \u001b[4mlimits\u001b[0m set to \u001b[4m[-10.0, 10.0]\u001b[0m\n",
      "\n",
      "\n",
      "\u001b[7m\u001b[34m                                ~~ Setup Info ~~                                \u001b[0m\n",
      "\n",
      "\n",
      "\u001b[34mCurrent Engine is            \u001b[1mreddemcee 0.9\u001b[0m\u001b[0m\n",
      "\u001b[34mNumber of cores is           \u001b[1m24\u001b[0m\u001b[0m\n",
      "\u001b[34mSave location is             \u001b[1mdatalogs/51Peg/run_3/k0\u001b[0m\u001b[0m\n",
      "\u001b[34mDynamical Criteria is        \u001b[1mNone\u001b[0m\u001b[0m\n",
      "\u001b[34mPosterior fit method is      \u001b[1mGaussian Mixtures\u001b[0m\u001b[0m\n",
      "\u001b[34mLimits constrain method is   \u001b[1mrange\u001b[0m\u001b[0m\n",
      "\u001b[34mModel Selection method is    \u001b[1mBIC\u001b[0m\u001b[0m\n",
      "\n",
      "\n",
      "\u001b[7m\u001b[34m                           ~~ Automatically Saving ~~                           \u001b[0m\n",
      "\n",
      "\n",
      "\u001b[34mLogger       : \u001b[7m\u001b[32m✔\u001b[0m\u001b[0m\n",
      "\u001b[34mSamples      : \u001b[7m\u001b[31m✘\u001b[0m\u001b[0m\n",
      "\u001b[34mPosteriors   : \u001b[7m\u001b[32m✔\u001b[0m\u001b[0m\n",
      "\u001b[34mLikelihoods  : \u001b[7m\u001b[32m✔\u001b[0m\u001b[0m\n",
      "\u001b[34mPlots: Posteriors           : \u001b[7m\u001b[32m✔\u001b[0m\u001b[0m\n",
      "\u001b[34mPlots: Keplerian Model      : \u001b[7m\u001b[32m✔\u001b[0m\u001b[0m\n",
      "\u001b[34mPlots: Gaussian Mixture     : \u001b[7m\u001b[32m✔\u001b[0m\u001b[0m\n",
      "\u001b[34mPlots: Parameter Histograms : \u001b[7m\u001b[32m✔\u001b[0m\u001b[0m\n",
      "\u001b[34mPlots: Corner               : \u001b[7m\u001b[32m✔\u001b[0m\u001b[0m\n",
      "\n",
      "\n",
      "\u001b[7m\u001b[1m\u001b[33m                               ~~ Pre-Run Info ~~                               \u001b[0m\n",
      "\n",
      "\n",
      "Parameter       Prior               Limits\n",
      "--------------  ------------------  ---------------------------------\n",
      "Acceleration    ~𝓤 (-1, 1)          [-1  1]\n",
      "\n",
      "--------------  ------------------  ---------------------------------\n",
      "Offset 1        ~𝓤 (-10.0, 10.0)    [-10.  10.]\n",
      "\n",
      "--------------  ------------------  ---------------------------------\n",
      "Jitter 1        ~𝓝 (5, 5)           [ 0.    75.852]\n",
      "\n",
      "\n",
      "\n",
      "\n",
      "\u001b[33mMath for AccelerationBlock o1: \u001b[0m\n",
      "\u001b[33m                                       γ₁                                       \u001b[0m\n",
      "\u001b[33mMath for OffsetBlock: \u001b[0m\n",
      "\u001b[33m                                      γ₀|ᵢ                                      \u001b[0m\n",
      "\u001b[33mMath for JitterBlock: \u001b[0m\n",
      "\u001b[33m                                       𝝈ᵢ                                       \u001b[0m\n",
      "\u001b[7m\u001b[32m                               Generating Samples                               \u001b[0m\n",
      "\n",
      "\n"
     ]
    },
    {
     "name": "stderr",
     "output_type": "stream",
     "text": [
      "100%|██████████| 36000/36000 [06:09<00:00, 97.33it/s] \n"
     ]
    },
    {
     "name": "stdout",
     "output_type": "stream",
     "text": [
      "temp_script.py took 370.172 seconds\n",
      "Autocorrelation tolerance=50 fails. Setting to 0.\n",
      "\u001b[32m                         Calculating Gaussian Mixtures                          \u001b[0m\n"
     ]
    },
    {
     "name": "stderr",
     "output_type": "stream",
     "text": [
      "100%|██████████| 3/3 [00:05<00:00,  1.80s/it]\n"
     ]
    },
    {
     "name": "stdout",
     "output_type": "stream",
     "text": [
      "\n",
      "\n",
      "\u001b[7m\u001b[1m\u001b[33m                                 ~~ Best Fit ~~                                 \u001b[0m\n",
      "\n",
      "\n",
      "Parameter       Value (max)  Range (-+ sig)    Prior       Limits\n",
      "------------  -------------  ----------------  ----------  --------\n",
      "Acceleration         -0.006  [-0.001  0.002]   ~𝓤 (-1, 1)  [-1  1]\n",
      "\n",
      "-----------  -------------  ----------------  ----------------  -----------\n",
      "Offset 1             2.256  [-1.226  1.198]   ~𝓤 (-10.0, 10.0)  [-10.  10.]\n",
      "\n",
      "-----------  -------------  ----------------  ---------  ---------------\n",
      "Jitter 1            35.868  [-0.557  0.764]   ~𝓝 (5, 5)  [ 0.    75.852]\n",
      "\n",
      "\n",
      "\n",
      "\n",
      "\u001b[7m\u001b[1m\u001b[33m                                 ~~ Run Info ~~                                 \u001b[0m\n",
      "\n",
      "\n",
      "\n",
      "\n",
      "\n",
      "\n",
      "Info                                 Value\n",
      "-----------------------------------  ------------------------------------------------------------------------------------------------\n",
      "Star Name                      :     51Peg\n",
      "The sample sizes are           :     [750000, 750000, 750000, 750000, 750000, 750000, 750000, 750000, 750000, 750000, 750000, 750000]\n",
      "Temps, Walkers, Sweeps, Steps  :     [12, 500, 3000, 1]\n",
      "Model used is                  :     ['AccelerationBlock o1', 'OffsetBlock', 'JitterBlock'](3)\n",
      "N data                         :     256\n",
      "t0 epoch is                    :     2450002.665695\n",
      "Number of Dimensions           :     3\n",
      "Degrees of Freedom             :     253\n",
      "\n",
      "\n",
      "----------------------------------------\n",
      "\n",
      "\n",
      "\n",
      "Decay Timescale, Rate, Scheme   :   500, 1, 0\n",
      "\n",
      "Beta Detail                     :   [1.0, 0.4804, 0.2487, 0.1312, 0.06566, 0.03135, 0.01317, 0.004563, 0.001203, 0.0001716, 1.264e-05, 0.0]\n",
      "\n",
      "Mean Logl Detail                :   [-1308.210, -1312.765, -1322.197, -1340.439, -1374.525, -1439.121, -1566.255, -1846.288, -2620.086, -5922.407, -44251.330, -449491.904]\n",
      "\n",
      "Mean Acceptance Fraction        :   [0.645, 0.643, 0.639, 0.633, 0.626, 0.616, 0.607, 0.601, 0.596, 0.588, 0.581, 0.513]\n",
      "\n",
      "Autocorrelation Time            :   [19.425, 19.194, 21.191]\n",
      "\n",
      "Temperature Swap Rate           :   [0.316, 0.315, 0.316, 0.316, 0.316, 0.316, 0.316, 0.315, 0.315, 0.315, 0.315]\n",
      "\n",
      "Mean Swap Distance              :   [1.177, 1.484, 1.754, 1.959, 2.109, 2.234, 2.329, 2.439, 2.613, 2.821, 2.852]\n",
      "\n",
      "\n",
      "\n",
      "\n",
      "\u001b[7m\u001b[1m\u001b[33m                           ~~ Statistical Details ~~                            \u001b[0m\n",
      "\n",
      "\n",
      "\n",
      "\n",
      "Statistic                      Value\n",
      "-----------------------------  -------------------\n",
      "The evidence is             :  -1354.509 +- 13.630\n",
      "The maximum posterior is    :  -1332.278\n",
      "The maximum likelihood is   :  -1307.004\n",
      "The BIC is                  :  2630.644\n",
      "The AIC is                  :  2620.008\n",
      "The DIC is                  :  2629.478\n",
      "The HQIC is                 :  2624.286\n",
      "The Bayes Factor is         :  47.505\n",
      "The chi2 is                 :  301.791\n",
      "The reduced chi2 is         :  1.193\n",
      "The RMSE is                 :  39.643\n",
      "The RMSi is                 :  [39.643]\n",
      "The Weights are             :  [1.]\n",
      "\n",
      "\n",
      "\n",
      "\n",
      "\n",
      "\n",
      "\u001b[32m                        Plotting Posterior Scatter Plot                         \u001b[0m\n"
     ]
    },
    {
     "name": "stderr",
     "output_type": "stream",
     "text": [
      "100%|██████████| 3/3 [00:01<00:00,  1.86it/s]\n"
     ]
    },
    {
     "name": "stdout",
     "output_type": "stream",
     "text": [
      "\n",
      "\n",
      "\u001b[32m                            Plotting Histograms Plot                            \u001b[0m\n"
     ]
    },
    {
     "name": "stderr",
     "output_type": "stream",
     "text": [
      "100%|██████████| 3/3 [00:00<00:00,  3.23it/s]\n"
     ]
    },
    {
     "name": "stdout",
     "output_type": "stream",
     "text": [
      "\n",
      "\n",
      "\u001b[32m                           Plotting Keplerian Models                            \u001b[0m\n",
      "\n",
      "\n",
      "\u001b[32m                          Plotting E[log L](beta) Plot                          \u001b[0m\n"
     ]
    },
    {
     "name": "stderr",
     "output_type": "stream",
     "text": [
      "100%|██████████| 1/1 [00:00<00:00,  7.55it/s]\n"
     ]
    },
    {
     "name": "stdout",
     "output_type": "stream",
     "text": [
      "\n",
      "\n",
      "\u001b[32m                             Plotting Beta Density                              \u001b[0m\n"
     ]
    },
    {
     "name": "stderr",
     "output_type": "stream",
     "text": [
      "  0%|          | 0/1 [00:00<?, ?it/s]/IronCrane/reddtea/pip_packages/astroemperor/src/astroemperor/canvas.py:2107: RuntimeWarning: divide by zero encountered in log\n",
      "  y = -1/np.diff(np.log(betas))\n",
      "100%|██████████| 1/1 [00:00<00:00,  9.62it/s]\n"
     ]
    },
    {
     "name": "stdout",
     "output_type": "stream",
     "text": [
      "\n",
      "\n",
      "\u001b[32m                           Plotting Temperature Rates                           \u001b[0m\n"
     ]
    },
    {
     "name": "stderr",
     "output_type": "stream",
     "text": [
      "100%|██████████| 11/11 [00:01<00:00, 10.81it/s]\n"
     ]
    },
    {
     "name": "stdout",
     "output_type": "stream",
     "text": [
      "\n",
      "\n",
      "\u001b[32m                                   PLOT ARVIZ                                   \u001b[0m\n"
     ]
    },
    {
     "name": "stderr",
     "output_type": "stream",
     "text": [
      "100%|██████████| 3/3 [00:17<00:00,  5.80s/it]\n"
     ]
    },
    {
     "name": "stdout",
     "output_type": "stream",
     "text": [
      "\n",
      "\n",
      "\u001b[32m                           Plotting Gaussian Mixtures                           \u001b[0m\n"
     ]
    },
    {
     "name": "stderr",
     "output_type": "stream",
     "text": [
      "100%|██████████| 3/3 [00:00<00:00,  4.40it/s]\n"
     ]
    },
    {
     "name": "stdout",
     "output_type": "stream",
     "text": [
      "\n",
      "\n",
      "\n",
      "\n",
      "Time Table\n",
      "\u001b[34mTime RUN                   \u001b[1m: 00:06:13\u001b[0m\u001b[0m\n",
      "\u001b[34mTime POSTPROCESS           \u001b[1m: 00:00:11\u001b[0m\u001b[0m\n",
      "\u001b[34mTime CALCULATE GM          \u001b[1m: 00:00:05\u001b[0m\u001b[0m\n",
      "\u001b[34mTime plot_posteriors       \u001b[1m: 00:00:02\u001b[0m\u001b[0m\n",
      "\u001b[34mTime plot_histograms       \u001b[1m: 00:00:01\u001b[0m\u001b[0m\n",
      "\u001b[34mTime plot_keplerian_model  \u001b[1m: 00:00:00\u001b[0m\u001b[0m\n",
      "\u001b[34mTime plot_betas            \u001b[1m: 00:00:00\u001b[0m\u001b[0m\n",
      "\u001b[34mTime plot_beta_density     \u001b[1m: 00:00:00\u001b[0m\u001b[0m\n",
      "\u001b[34mTime plot_rates            \u001b[1m: 00:00:01\u001b[0m\u001b[0m\n",
      "\u001b[34mTime plot_trace            \u001b[1m: 00:00:17\u001b[0m\u001b[0m\n",
      "\u001b[34m\n",
      "past BIC - present BIC > 5\u001b[0m\n",
      "\u001b[1m\u001b[34m\n",
      " BIC condition met!!\u001b[0m\n",
      "\u001b[34minf - 2630.644 > 5\u001b[0m\n",
      "\n",
      "\n",
      "\u001b[7m\u001b[1m\u001b[35m                                                                                \u001b[0m\n",
      "\u001b[7m\u001b[1m\u001b[35m                      ~~ Proceeding with the next run ! ~~                      \u001b[0m\n",
      "\u001b[7m\u001b[1m\u001b[35m                                                                                \u001b[0m\n",
      "\n",
      "\n",
      "                              \u001b[1m\u001b[32mKeplerian\u001b[0m \u001b[32mblock added\u001b[0m, \u001b[32mKeplerianBlock 1\u001b[0m\n",
      "\n",
      "\n",
      "\n",
      "Condition applied: Parameter \u001b[4mPeriod 1\u001b[0m attribute \u001b[4mlimits\u001b[0m set to \u001b[4m[3, 5]\u001b[0m\n",
      "\n",
      "Condition applied: Parameter \u001b[4mPeriod 1\u001b[0m attribute \u001b[4minit_pos\u001b[0m set to \u001b[4m[4.1, 4.3]\u001b[0m\n",
      "\n",
      "Condition applied: Parameter \u001b[4mAmplitude 1\u001b[0m attribute \u001b[4mlimits\u001b[0m set to \u001b[4m[45, 60]\u001b[0m\n",
      "\n",
      "Condition applied: Parameter \u001b[4mAmplitude 1\u001b[0m attribute \u001b[4minit_pos\u001b[0m set to \u001b[4m[50, 60]\u001b[0m\n",
      "\n",
      "Condition applied: Parameter \u001b[4mJitter 1\u001b[0m attribute \u001b[4mlimits\u001b[0m set to \u001b[4m[1e-05, 38.87977315299807]\u001b[0m\n",
      "\n",
      "\n",
      "\n",
      "\n",
      "\u001b[7m\u001b[1m\u001b[33m                               ~~ Pre-Run Info ~~                               \u001b[0m\n",
      "\n",
      "\n",
      "Parameter       Prior               Limits\n",
      "--------------  ------------------  ---------------------------------\n",
      "Period 1        ~𝓤 (3, 5)           [3. 5.]\n",
      "Amplitude 1     ~𝓤 (45, 60)         [45. 60.]\n",
      "Phase 1         ~𝓤 (0.0, 6.283)     [0.    6.283]\n",
      "Ecc_sin 1       ~𝓤 (-1, 1)          [-1.  1.]\n",
      "Ecc_cos 1       ~𝓤 (-1, 1)          [-1.  1.]\n",
      "\n",
      "--------------  ------------------  ---------------------------------\n",
      "Acceleration    ~𝓤 (-1, 1)          [-1  1]\n",
      "\n",
      "--------------  ------------------  ---------------------------------\n",
      "Offset 1        ~𝓤 (-10.0, 10.0)    [-10.  10.]\n",
      "\n",
      "--------------  ------------------  ---------------------------------\n",
      "Jitter 1        ~𝓝 (5, 5)           [ 0.   38.88]\n",
      "\n",
      "\n",
      "\n",
      "\n",
      "\u001b[33mMath for KeplerianBlock 1: \u001b[0m\n",
      "\u001b[33m                       K⋅(cos(ν(t,P,𝜙,e)+𝜔 )+e⋅cos(𝜔 ))|₁                       \u001b[0m\n",
      "\u001b[33mMath for AccelerationBlock o1: \u001b[0m\n",
      "\u001b[33m                                       γ₁                                       \u001b[0m\n",
      "\u001b[33mMath for OffsetBlock: \u001b[0m\n",
      "\u001b[33m                                      γ₀|ᵢ                                      \u001b[0m\n",
      "\u001b[33mMath for JitterBlock: \u001b[0m\n",
      "\u001b[33m                                       𝝈ᵢ                                       \u001b[0m\n",
      "\u001b[7m\u001b[32m                               Generating Samples                               \u001b[0m\n",
      "\n",
      "\n"
     ]
    },
    {
     "name": "stderr",
     "output_type": "stream",
     "text": [
      "100%|██████████| 36000/36000 [06:09<00:00, 97.40it/s] \n"
     ]
    },
    {
     "name": "stdout",
     "output_type": "stream",
     "text": [
      "temp_script.py took 370.016 seconds\n",
      "Autocorrelation tolerance=50 fails. Setting to 0.\n",
      "\u001b[32m                         Calculating Gaussian Mixtures                          \u001b[0m\n"
     ]
    },
    {
     "name": "stderr",
     "output_type": "stream",
     "text": [
      "100%|██████████| 12/12 [00:17<00:00,  1.44s/it]"
     ]
    },
    {
     "name": "stdout",
     "output_type": "stream",
     "text": [
      "\n",
      "\n",
      "\u001b[7m\u001b[1m\u001b[33m                                 ~~ Best Fit ~~                                 \u001b[0m\n",
      "\n",
      "\n",
      "Parameter            Value (max)  Range (-+ sig)    Prior            Limits\n",
      "-----------------  -------------  ----------------  ---------------  -------------\n",
      "Period 1                   4.231  [-0.  0.]         ~𝓤 (3, 5)        [3. 5.]\n",
      "Amplitude 1               55.713  [-0.208  0.305]   ~𝓤 (45, 60)      [45. 60.]\n",
      "Phase 1                    1.921  [-0.375  0.315]   ~𝓤 (0.0, 6.283)  [0.    6.283]\n",
      "Ecc_sin 1                  0.086  [-0.024  0.031]   ~𝓤 (-1, 1)       [-1.  1.]\n",
      "Ecc_cos 1                  0.083  [-0.036  0.012]   ~𝓤 (-1, 1)       [-1.  1.]\n",
      "Eccentricity 1             0.014  [-0.008  0.008]                    [0. 1.]\n",
      "Longitude 1                0.806  [-0.335  0.355]                    [0.    6.283]\n",
      "Semi-Major Axis 1          0.053  [-0.  0.]                          [   0. 1000.]\n",
      "Minimum Mass 1             0.478  [-0.002  0.003]                    [   0. 1000.]\n",
      "\n",
      "------------  -------------  ----------------  ----------  --------\n",
      "Acceleration         -0.004  [-0.  0.]         ~𝓤 (-1, 1)  [-1  1]\n",
      "\n",
      "-----------  -------------  ----------------  ----------------  -----------\n",
      "Offset 1              5.27  [-0.132  0.292]   ~𝓤 (-10.0, 10.0)  [-10.  10.]\n",
      "\n",
      "-----------  -------------  ----------------  ---------  -------------\n",
      "Jitter 1             0.411  [-0.411  0.904]   ~𝓝 (5, 5)  [ 0.   38.88]\n",
      "\n",
      "\n",
      "\n",
      "\n",
      "\u001b[7m\u001b[1m\u001b[33m                                 ~~ Run Info ~~                                 \u001b[0m\n",
      "\n",
      "\n",
      "\n",
      "\n",
      "\n",
      "\n",
      "Info                                 Value\n",
      "-----------------------------------  ------------------------------------------------------------------------------------------------\n",
      "Star Name                      :     51Peg\n",
      "The sample sizes are           :     [750000, 750000, 750000, 750000, 750000, 750000, 750000, 750000, 750000, 750000, 750000, 750000]\n",
      "Temps, Walkers, Sweeps, Steps  :     [12, 500, 3000, 1]\n",
      "Model used is                  :     ['KeplerianBlock 1', 'AccelerationBlock o1', 'OffsetBlock', 'JitterBlock'](8)\n",
      "N data                         :     256\n",
      "t0 epoch is                    :     2450002.665695\n",
      "Number of Dimensions           :     8\n",
      "Degrees of Freedom             :     248\n",
      "\n",
      "\n",
      "----------------------------------------\n",
      "\n",
      "\n",
      "\n",
      "Decay Timescale, Rate, Scheme   :   500, 1, 0\n",
      "\n",
      "Beta Detail                     :   [1.0, 0.4372, 0.1926, 0.09089, 0.04168, 0.01914, 0.01119, 0.005181, 0.001525, 0.0002544, 1.754e-05, 0.0]\n",
      "\n",
      "Mean Logl Detail                :   [-840.821, -845.846, -857.633, -884.398, -941.355, -1079.586, -1393.629, -1815.125, -2619.683, -5458.664, -33719.631, -444106.432]\n",
      "\n",
      "Mean Acceptance Fraction        :   [0.197, 0.192, 0.190, 0.195, 0.206, 0.203, 0.155, 0.176, 0.209, 0.231, 0.235, 0.203]\n",
      "\n",
      "Autocorrelation Time            :   [79.896, 79.327, 98.125, 94.848, 96.629, 85.127, 82.113, 92.234]\n",
      "\n",
      "Temperature Swap Rate           :   [0.270, 0.270, 0.270, 0.270, 0.270, 0.270, 0.270, 0.270, 0.270, 0.270, 0.270]\n",
      "\n",
      "Mean Swap Distance              :   [0.523, 0.740, 1.069, 1.512, 2.141, 2.833, 2.900, 2.850, 2.896, 3.003, 3.043]\n",
      "\n",
      "\n",
      "\n",
      "\n",
      "\u001b[7m\u001b[1m\u001b[33m                           ~~ Statistical Details ~~                            \u001b[0m\n",
      "\n",
      "\n",
      "\n",
      "\n",
      "Statistic                      Value\n",
      "-----------------------------  ------------------\n",
      "The evidence is             :  -892.895 +- 12.100\n",
      "The maximum posterior is    :  -850.417\n",
      "The maximum likelihood is   :  -837.153\n",
      "The BIC is                  :  1718.668\n",
      "The AIC is                  :  1690.306\n",
      "The DIC is                  :  1842.587\n",
      "The HQIC is                 :  1701.713\n",
      "The Bayes Factor is         :  55.742\n",
      "The chi2 is                 :  258.861\n",
      "The reduced chi2 is         :  1.044\n",
      "The RMSE is                 :  6.904\n",
      "The RMSi is                 :  [6.904]\n",
      "The Weights are             :  [1.]\n",
      "\n",
      "\n",
      "\n",
      "\n",
      "\n",
      "\n",
      "\u001b[32m                        Plotting Posterior Scatter Plot                         \u001b[0m\n"
     ]
    },
    {
     "name": "stderr",
     "output_type": "stream",
     "text": [
      "\n",
      "100%|██████████| 4/4 [00:06<00:00,  1.64s/it]\n",
      "0it [00:00, ?it/s]\n"
     ]
    },
    {
     "name": "stdout",
     "output_type": "stream",
     "text": [
      "\n",
      "\n",
      "\u001b[32m                            Plotting Histograms Plot                            \u001b[0m\n"
     ]
    },
    {
     "name": "stderr",
     "output_type": "stream",
     "text": [
      "100%|██████████| 4/4 [00:02<00:00,  1.62it/s]\n"
     ]
    },
    {
     "name": "stdout",
     "output_type": "stream",
     "text": [
      "\n",
      "\n",
      "\u001b[32m                           Plotting Keplerian Models                            \u001b[0m\n",
      "\n",
      "\n",
      "\u001b[32m                          Plotting E[log L](beta) Plot                          \u001b[0m\n"
     ]
    },
    {
     "name": "stderr",
     "output_type": "stream",
     "text": [
      "100%|██████████| 1/1 [00:00<00:00,  7.64it/s]\n"
     ]
    },
    {
     "name": "stdout",
     "output_type": "stream",
     "text": [
      "\n",
      "\n",
      "\u001b[32m                             Plotting Beta Density                              \u001b[0m\n"
     ]
    },
    {
     "name": "stderr",
     "output_type": "stream",
     "text": [
      "  0%|          | 0/1 [00:00<?, ?it/s]/IronCrane/reddtea/pip_packages/astroemperor/src/astroemperor/canvas.py:2107: RuntimeWarning: divide by zero encountered in log\n",
      "  y = -1/np.diff(np.log(betas))\n",
      "100%|██████████| 1/1 [00:00<00:00, 10.34it/s]\n"
     ]
    },
    {
     "name": "stdout",
     "output_type": "stream",
     "text": [
      "\n",
      "\n",
      "\u001b[32m                           Plotting Temperature Rates                           \u001b[0m\n"
     ]
    },
    {
     "name": "stderr",
     "output_type": "stream",
     "text": [
      "100%|██████████| 11/11 [00:00<00:00, 11.95it/s]\n"
     ]
    },
    {
     "name": "stdout",
     "output_type": "stream",
     "text": [
      "\n",
      "\n",
      "\u001b[32m                                   PLOT ARVIZ                                   \u001b[0m\n"
     ]
    },
    {
     "name": "stderr",
     "output_type": "stream",
     "text": [
      "100%|██████████| 4/4 [00:29<00:00,  7.45s/it]\n"
     ]
    },
    {
     "name": "stdout",
     "output_type": "stream",
     "text": [
      "\n",
      "\n",
      "\u001b[32m                           Plotting Gaussian Mixtures                           \u001b[0m\n"
     ]
    },
    {
     "name": "stderr",
     "output_type": "stream",
     "text": [
      " 67%|██████▋   | 8/12 [00:02<00:01,  3.11it/s]"
     ]
    },
    {
     "name": "stdout",
     "output_type": "stream",
     "text": [
      "\n",
      "\n",
      "\n",
      "\n",
      "Time Table\n",
      "\u001b[34mTime RUN                   \u001b[1m: 00:06:14\u001b[0m\u001b[0m\n",
      "\u001b[34mTime POSTPROCESS           \u001b[1m: 00:00:29\u001b[0m\u001b[0m\n",
      "\u001b[34mTime CALCULATE GM          \u001b[1m: 00:00:17\u001b[0m\u001b[0m\n",
      "\u001b[34mTime plot_posteriors       \u001b[1m: 00:00:07\u001b[0m\u001b[0m\n",
      "\u001b[34mTime plot_histograms       \u001b[1m: 00:00:02\u001b[0m\u001b[0m\n",
      "\u001b[34mTime plot_keplerian_model  \u001b[1m: 00:00:00\u001b[0m\u001b[0m\n",
      "\u001b[34mTime plot_betas            \u001b[1m: 00:00:00\u001b[0m\u001b[0m\n",
      "\u001b[34mTime plot_beta_density     \u001b[1m: 00:00:00\u001b[0m\u001b[0m\n",
      "\u001b[34mTime plot_rates            \u001b[1m: 00:00:00\u001b[0m\u001b[0m\n",
      "\u001b[34mTime plot_trace            \u001b[1m: 00:00:29\u001b[0m\u001b[0m\n",
      "\u001b[34m\n",
      "past BIC - present BIC > 5\u001b[0m\n",
      "\u001b[1m\u001b[34m\n",
      " BIC condition met!!\u001b[0m\n",
      "\u001b[34m2630.644 - 1718.668 > 5\u001b[0m\n",
      "\n",
      "\n",
      "\u001b[7m\u001b[1m\u001b[35m                                                                                \u001b[0m\n",
      "\u001b[7m\u001b[1m\u001b[35m                              ~~ End of the Run ~~                              \u001b[0m\n",
      "\u001b[7m\u001b[1m\u001b[35m                                                                                \u001b[0m\n",
      "\n",
      "\n"
     ]
    },
    {
     "name": "stderr",
     "output_type": "stream",
     "text": [
      "\n"
     ]
    }
   ],
   "source": [
    "sim.autorun(0, 1)"
   ]
  },
  {
   "cell_type": "code",
   "execution_count": null,
   "metadata": {},
   "outputs": [],
   "source": []
  }
 ],
 "metadata": {
  "kernelspec": {
   "display_name": "base",
   "language": "python",
   "name": "python3"
  },
  "language_info": {
   "codemirror_mode": {
    "name": "ipython",
    "version": 3
   },
   "file_extension": ".py",
   "mimetype": "text/x-python",
   "name": "python",
   "nbconvert_exporter": "python",
   "pygments_lexer": "ipython3",
   "version": "3.12.4"
  }
 },
 "nbformat": 4,
 "nbformat_minor": 2
}
