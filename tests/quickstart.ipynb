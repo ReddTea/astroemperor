{
 "cells": [
  {
   "cell_type": "code",
   "execution_count": 1,
   "metadata": {},
   "outputs": [
    {
     "name": "stdout",
     "output_type": "stream",
     "text": [
      "I couldnt grab the terminal size! Trying with pandas...\n"
     ]
    }
   ],
   "source": [
    "from IPython.display import Image, display\n",
    "import numpy as np\n",
    "import astroemperor as emp\n",
    "\n",
    "np.random.seed(1234)"
   ]
  },
  {
   "cell_type": "markdown",
   "metadata": {},
   "source": [
    "# Quickstart\n",
    "We will start with a simple evaluation of 51Peg. The data for this system can be downloaded from the GitHub.\n",
    "\n",
    "## Working Directory\n",
    "The working directory must have a folder named datafiles, where the RVs will be read, and a folder called datalogs, where all relevant results will be stored.\n",
    "```\n",
    "📂working_directory\n",
    " ┣ 📜mini_test.py\n",
    " ┣ 📜my_scripts.py\n",
    " ┣ 📂datafiles\n",
    " ┃ ┣ 📂51Peg\n",
    " ┃ ┃ ┗ 📂RV\n",
    " ┃ ┃ ┃ ┗ 📜51peg.vels\n",
    " ┃ ┣ 📂GJ876\n",
    " ┃ ┃ ┗ 📂RV\n",
    " ┃ ┃ ┃ ┣ 📜GJ876_1_LICK.vels\n",
    " ┃ ┃ ┃ ┣ 📜GJ876_2_KECK.vels\n",
    " ┣ 📂datalogs\n",
    " ┃ ┣ 📂51Peg\n",
    " ┃ ┃ ┗ 📂run_1\n",
    "```\n",
    "\n",
    "## Running the code\n",
    "We set up the basics for the run to check that everything is working as intended. The results won't be conclussive since this is a very short run."
   ]
  },
  {
   "cell_type": "code",
   "execution_count": null,
   "metadata": {},
   "outputs": [
    {
     "name": "stdout",
     "output_type": "stream",
     "text": [
      "\u001b[7m\u001b[1m\u001b[32m                                                                                \u001b[0m\n",
      "\u001b[7m\u001b[1m\u001b[32m                   ~~ Simulation Successfully Initialized ~~                    \u001b[0m\n",
      "\u001b[7m\u001b[1m\u001b[32m                                                                                \u001b[0m\n",
      "\n",
      "\n",
      "\u001b[34m                         \n",
      "Reading data from 51peg.vels                          \u001b[0m\n",
      "\n",
      "\n",
      "\n",
      "\n",
      "\n",
      "\n",
      "                              \u001b[1m\u001b[32mOffset\u001b[0m \u001b[32mblock added\u001b[0m, \u001b[32mOffsetBlock\u001b[0m\n",
      "\n",
      "\n",
      "                              \u001b[1m\u001b[32mJitter\u001b[0m \u001b[32mblock added\u001b[0m, \u001b[32mJitterBlock\u001b[0m\n",
      "\n",
      "\n",
      "                              \u001b[1m\u001b[32mKeplerian\u001b[0m \u001b[32mblock added\u001b[0m, \u001b[32mKeplerianBlock 1\u001b[0m\n",
      "\n",
      "\n",
      "\n",
      "\n",
      "\u001b[7m\u001b[34m                                ~~ Setup Info ~~                                \u001b[0m\n",
      "\n",
      "\n",
      "\u001b[34mCurrent Engine is            \u001b[1mreddemcee 0.9\u001b[0m\u001b[0m\n",
      "\u001b[34mNumber of cores is           \u001b[1m4\u001b[0m\u001b[0m\n",
      "\u001b[34mSave location is             \u001b[1mdatalogs/51Peg/run_12/k1\u001b[0m\u001b[0m\n",
      "\u001b[34mDynamical Criteria is        \u001b[1mNone\u001b[0m\u001b[0m\n",
      "\u001b[34mPosterior fit method is      \u001b[1mGaussian Mixtures\u001b[0m\u001b[0m\n",
      "\u001b[34mLimits constrain method is   \u001b[1msigma\u001b[0m\u001b[0m\n",
      "\u001b[34mModel Selection method is    \u001b[1mBIC\u001b[0m\u001b[0m\n",
      "\n",
      "\n",
      "\u001b[7m\u001b[34m                           ~~ Automatically Saving ~~                           \u001b[0m\n",
      "\n",
      "\n",
      "\u001b[34mLogger       : \u001b[7m\u001b[32m✔\u001b[0m\u001b[0m\n",
      "\u001b[34mSamples      : \u001b[7m\u001b[31m✘\u001b[0m\u001b[0m\n",
      "\u001b[34mPosteriors   : \u001b[7m\u001b[32m✔\u001b[0m\u001b[0m\n",
      "\u001b[34mLikelihoods  : \u001b[7m\u001b[32m✔\u001b[0m\u001b[0m\n",
      "\u001b[34mPlots: Posteriors           : \u001b[7m\u001b[32m✔\u001b[0m\u001b[0m\n",
      "\u001b[34mPlots: Keplerian Model      : \u001b[7m\u001b[32m✔\u001b[0m\u001b[0m\n",
      "\u001b[34mPlots: Gaussian Mixture     : \u001b[7m\u001b[32m✔\u001b[0m\u001b[0m\n",
      "\u001b[34mPlots: Parameter Histograms : \u001b[7m\u001b[32m✔\u001b[0m\u001b[0m\n",
      "\u001b[34mPlots: Corner               : \u001b[7m\u001b[32m✔\u001b[0m\u001b[0m\n",
      "\n",
      "\n",
      "\u001b[7m\u001b[1m\u001b[33m                               ~~ Pre-Run Info ~~                               \u001b[0m\n",
      "\n",
      "\n",
      "Parameter         Prior                   Limits\n",
      "----------------  ----------------------  ---------------------------------\n",
      "Period 1          ~𝓤 (1.5, 2187.042)      [1.500000e+00 2.187042e+03]\n",
      "Amplitude 1       ~𝓤 (0.0, 79.833)        [ 0.    79.833]\n",
      "Phase 1           ~𝓤 (0.0, 6.283)         [0.    6.283]\n",
      "Eccentricity 1    ~𝓝 (0.0, 0.1)           [0. 1.]\n",
      "Longitude 1       ~𝓤 (0.0, 6.283)         [0.    6.283]\n",
      "\n",
      "----------------  ----------------------  ---------------------------------\n",
      "Offset 1          ~𝓤 (-75.852, 75.852)    [-75.852  75.852]\n",
      "\n",
      "----------------  ----------------------  ---------------------------------\n",
      "Jitter 1          ~𝓝 (5, 5)               [ 0.    75.852]\n",
      "\n",
      "\n",
      "\n",
      "\n",
      "\u001b[33mMath for KeplerianBlock 1: \u001b[0m\n",
      "\u001b[33m                        K⋅(cos(ν(t,P,𝜙,e)+𝜔)+e⋅cos(𝜔))|₁                        \u001b[0m\n",
      "\u001b[33mMath for OffsetBlock: \u001b[0m\n",
      "\u001b[33m                                      γ₀|ᵢ                                      \u001b[0m\n",
      "\u001b[33mMath for JitterBlock: \u001b[0m\n",
      "\u001b[33m                                                                                \u001b[0m\n",
      "\u001b[7m\u001b[32m                               Generating Samples                               \u001b[0m\n",
      "\n",
      "\n"
     ]
    },
    {
     "name": "stderr",
     "output_type": "stream",
     "text": [
      "100%|██████████| 1000/1000 [00:03<00:00, 250.50it/s]\n"
     ]
    },
    {
     "name": "stdout",
     "output_type": "stream",
     "text": [
      "temp_script.py took 4.022 seconds\n",
      "Autocorrelation tolerance=50 fails. Setting to 0.\n",
      "\u001b[32m                         Calculating Gaussian Mixtures                          \u001b[0m\n"
     ]
    },
    {
     "name": "stderr",
     "output_type": "stream",
     "text": [
      "100%|██████████| 9/9 [00:00<00:00, 12.90it/s]"
     ]
    },
    {
     "name": "stdout",
     "output_type": "stream",
     "text": [
      "\n",
      "\n",
      "\u001b[7m\u001b[1m\u001b[33m                                 ~~ Best Fit ~~                                 \u001b[0m\n",
      "\n",
      "\n",
      "Parameter            Value (max)  Range (-+ sig)       Prior               Limits\n",
      "-----------------  -------------  -------------------  ------------------  ---------------------------\n",
      "Period 1                   4.27   [  -2.77  1203.779]  ~𝓤 (1.5, 2187.042)  [1.500000e+00 2.187042e+03]\n",
      "Amplitude 1                6.53   [-6.529  1.543]      ~𝓤 (0.0, 79.833)    [ 0.    79.833]\n",
      "Phase 1                    3.096  [-1.233  0.149]      ~𝓤 (0.0, 6.283)     [0.    6.283]\n",
      "Eccentricity 1             0.108  [-0.106  0.129]      ~𝓝 (0.0, 0.1)       [0. 1.]\n",
      "Longitude 1                0.609  [-0.609  3.306]      ~𝓤 (0.0, 6.283)     [0.    6.283]\n",
      "Semi-Major Axis 1          0.052  [-0.052  2.179]                          [   0. 1000.]\n",
      "Minimum Mass 1             0.052  [-0.038  0.371]                          [   0. 1000.]\n",
      "\n",
      "-----------  -------------  ----------------  --------------------  -----------------\n",
      "Offset 1             2.625  [-7.552  6.415]   ~𝓤 (-75.852, 75.852)  [-75.852  75.852]\n",
      "\n",
      "-----------  -------------  ----------------  ---------  ---------------\n",
      "Jitter 1            36.831  [-1.387  0.134]   ~𝓝 (5, 5)  [ 0.    75.852]\n",
      "\n",
      "\n",
      "\n",
      "\n",
      "\u001b[7m\u001b[1m\u001b[33m                                 ~~ Run Info ~~                                 \u001b[0m\n",
      "\n",
      "\n",
      "\n",
      "\n",
      "\n",
      "\n",
      "Info                                 Value\n",
      "-----------------------------------  -----------------------------------------------------\n",
      "Star Name                      :     51Peg\n",
      "The sample sizes are           :     [50000, 50000]\n",
      "Temps, Walkers, Sweeps, Steps  :     [2, 100, 500, 1]\n",
      "Model used is                  :     ['KeplerianBlock 1', 'OffsetBlock', 'JitterBlock'](7)\n",
      "N data                         :     256\n",
      "t0 epoch is                    :     2450002.665695\n",
      "Number of Dimensions           :     7\n",
      "Degrees of Freedom             :     249\n",
      "\n",
      "\n",
      "----------------------------------------\n",
      "\n",
      "\n",
      "\n",
      "Decay Timescale, Rate, Scheme   :   1000, 1, 0\n",
      "\n",
      "Beta Detail                     :   [1.0, 0.4002]\n",
      "\n",
      "Mean Logl Detail                :   [-1310.141, -1340.973]\n",
      "\n",
      "Mean Acceptance Fraction        :   [0.281, 0.277]\n",
      "\n",
      "Autocorrelation Time            :   [39.062, 40.940, 37.642, 52.934, 38.109, 30.734, 34.363]\n",
      "\n",
      "Temperature Swap Rate           :   [0.165]\n",
      "\n",
      "Mean Swap Distance              :   [103.395]\n",
      "\n",
      "\n",
      "\n",
      "\n",
      "\u001b[7m\u001b[1m\u001b[33m                           ~~ Statistical Details ~~                            \u001b[0m\n",
      "\n",
      "\n",
      "\n",
      "\n",
      "Statistic                      Value\n",
      "-----------------------------  ------------------\n",
      "The evidence is             :  -1334.752 +- 3.030\n",
      "The maximum posterior is    :  -1337.704\n",
      "The maximum likelihood is   :  -1294.948\n",
      "The BIC is                  :  2628.713\n",
      "The AIC is                  :  2603.897\n",
      "The DIC is                  :  4796.959\n",
      "The HQIC is                 :  2613.878\n",
      "The Bayes Factor is         :  39.803\n",
      "The chi2 is                 :  264.556\n",
      "The reduced chi2 is         :  1.062\n",
      "The RMSE is                 :  38.067\n",
      "The RMSi is                 :  [38.067]\n",
      "The Weights are             :  [1.]\n",
      "\n",
      "\n",
      "\n",
      "\n",
      "\n",
      "\n",
      "\u001b[32m                        Plotting Posterior Scatter Plot                         \u001b[0m\n"
     ]
    },
    {
     "name": "stderr",
     "output_type": "stream",
     "text": [
      "\n",
      "100%|██████████| 4/4 [00:05<00:00,  1.48s/it]\n",
      "100%|██████████| 2/2 [00:01<00:00,  1.43it/s]\n"
     ]
    },
    {
     "name": "stdout",
     "output_type": "stream",
     "text": [
      "\n",
      "\n",
      "\u001b[32m                            Plotting Histograms Plot                            \u001b[0m\n"
     ]
    },
    {
     "name": "stderr",
     "output_type": "stream",
     "text": [
      "100%|██████████| 6/6 [00:02<00:00,  2.04it/s]\n"
     ]
    },
    {
     "name": "stdout",
     "output_type": "stream",
     "text": [
      "\n",
      "\n",
      "\u001b[32m                           Plotting Keplerian Models                            \u001b[0m\n",
      "\n",
      "\n",
      "\u001b[32m                          Plotting E[log L](beta) Plot                          \u001b[0m\n"
     ]
    },
    {
     "name": "stderr",
     "output_type": "stream",
     "text": [
      "100%|██████████| 1/1 [00:00<00:00,  7.66it/s]\n"
     ]
    },
    {
     "name": "stdout",
     "output_type": "stream",
     "text": [
      "\n",
      "\n",
      "\u001b[32m                             Plotting Beta Density                              \u001b[0m\n"
     ]
    },
    {
     "name": "stderr",
     "output_type": "stream",
     "text": [
      "100%|██████████| 1/1 [00:00<00:00,  6.46it/s]\n"
     ]
    },
    {
     "name": "stdout",
     "output_type": "stream",
     "text": [
      "\n",
      "\n",
      "\u001b[32m                           Plotting Temperature Rates                           \u001b[0m\n"
     ]
    },
    {
     "name": "stderr",
     "output_type": "stream",
     "text": [
      "100%|██████████| 1/1 [00:00<00:00,  1.42it/s]\n"
     ]
    },
    {
     "name": "stdout",
     "output_type": "stream",
     "text": [
      "\n",
      "\n",
      "\u001b[32m                           Plotting Gaussian Mixtures                           \u001b[0m\n"
     ]
    },
    {
     "name": "stderr",
     "output_type": "stream",
     "text": [
      " 78%|███████▊  | 7/9 [00:01<00:00,  3.63it/s]"
     ]
    },
    {
     "name": "stdout",
     "output_type": "stream",
     "text": [
      "\n",
      "\n",
      "\n",
      "\n",
      "Time Table\n",
      "\u001b[34mTime RUN                   \u001b[1m: 00:00:05\u001b[0m\u001b[0m\n",
      "\u001b[34mTime POSTPROCESS           \u001b[1m: 00:00:01\u001b[0m\u001b[0m\n",
      "\u001b[34mTime CALCULATE GM          \u001b[1m: 00:00:00\u001b[0m\u001b[0m\n",
      "\u001b[34mTime plot_posteriors       \u001b[1m: 00:00:07\u001b[0m\u001b[0m\n",
      "\u001b[34mTime plot_histograms       \u001b[1m: 00:00:03\u001b[0m\u001b[0m\n",
      "\u001b[34mTime plot_keplerian_model  \u001b[1m: 00:00:00\u001b[0m\u001b[0m\n",
      "\u001b[34mTime plot_betas            \u001b[1m: 00:00:00\u001b[0m\u001b[0m\n",
      "\u001b[34mTime plot_beta_density     \u001b[1m: 00:00:00\u001b[0m\u001b[0m\n",
      "\u001b[34mTime plot_rates            \u001b[1m: 00:00:00\u001b[0m\u001b[0m\n",
      "\u001b[34mTime plot_trace            \u001b[1m: 00:00:00\u001b[0m\u001b[0m\n",
      "\u001b[1m\u001b[34m\n",
      "BIC condition met!!\u001b[0m\n",
      "\u001b[34m\n",
      "present BIC < past BIC - 5\u001b[0m\n",
      "\u001b[34m2628.713 < inf - 5\u001b[0m\n",
      "\n",
      "\n",
      "\u001b[7m\u001b[1m\u001b[35m                                                                                \u001b[0m\n",
      "\u001b[7m\u001b[1m\u001b[35m                              ~~ End of the Run ~~                              \u001b[0m\n",
      "\u001b[7m\u001b[1m\u001b[35m                                                                                \u001b[0m\n",
      "\n",
      "\n"
     ]
    },
    {
     "name": "stderr",
     "output_type": "stream",
     "text": [
      "\n"
     ]
    }
   ],
   "source": [
    "sim = emp.Simulation()\n",
    "sim.cores__ = 4  # multiprocessing\n",
    "\n",
    "sim.set_engine('reddemcee')  # sets the engine\n",
    "sim.engine_config['setup'] = [2, 100, 500, 1]  # ntemps, nwalkers, nsweeps, nsteps\n",
    "sim.load_data('51Peg')  # read from ./datafiles/\n",
    "sim.plot_trace['plot'] = False  # to speed up the test\n",
    "\n",
    "sim.autorun(1, 1)  # (from=1, to=1): just 1 keplerian"
   ]
  },
  {
   "cell_type": "markdown",
   "metadata": {},
   "source": [
    "## Results\n",
    "We can look at the results in the /datalogs/Peg51/ folder."
   ]
  },
  {
   "cell_type": "code",
   "execution_count": 4,
   "metadata": {},
   "outputs": [
    {
     "data": {
      "text/plain": [
       "\"\\nsim.set_engine('dynesty_dynamic')  # sets the engine\\nsim.engine_config['queue_size'] = sim.cores__\\nsim.engine_config['nlive'] = 1500\\nsim.engine_config['sample'] = 'rwalk'  # 'auto', 'unif', 'rwalk', 'slice', 'rslice'\\n\""
      ]
     },
     "execution_count": 4,
     "metadata": {},
     "output_type": "execute_result"
    }
   ],
   "source": [
    "'''\n",
    "sim.set_engine('dynesty_dynamic')  # sets the engine\n",
    "sim.engine_config['queue_size'] = sim.cores__\n",
    "sim.engine_config['nlive'] = 1500\n",
    "sim.engine_config['sample'] = 'rwalk'  # 'auto', 'unif', 'rwalk', 'slice', 'rslice'\n",
    "'''"
   ]
  }
 ],
 "metadata": {
  "kernelspec": {
   "display_name": "base",
   "language": "python",
   "name": "python3"
  },
  "language_info": {
   "codemirror_mode": {
    "name": "ipython",
    "version": 3
   },
   "file_extension": ".py",
   "mimetype": "text/x-python",
   "name": "python",
   "nbconvert_exporter": "python",
   "pygments_lexer": "ipython3",
   "version": "3.12.4"
  }
 },
 "nbformat": 4,
 "nbformat_minor": 2
}
